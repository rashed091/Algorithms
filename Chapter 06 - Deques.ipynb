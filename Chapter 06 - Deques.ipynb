{
 "cells": [
  {
   "cell_type": "markdown",
   "metadata": {},
   "source": [
    "A **deque**, also known as a double-ended queue, is an ordered\n",
    "collection of items similar to the queue. It has two ends, a front and a\n",
    "rear, and the items remain positioned in the collection. What makes a\n",
    "deque different is the unrestrictive nature of adding and removing\n",
    "items. New items can be added at either the front or the rear. Likewise,\n",
    "existing items can be removed from either end. In a sense, this hybrid\n",
    "linear structure provides all the capabilities of stacks and queues in a\n",
    "single data structure.\n",
    "\n",
    "![A deque of Python data objects](figures/basic-deque.png)\n",
    "\n",
    "The Deque Abstract Data Type\n",
    "---\n",
    "\n",
    "The deque abstract data type is defined by the following structure and\n",
    "operations. A deque is structured, as described above, as an ordered\n",
    "collection of items where items are added and removed from either end,\n",
    "either front or rear. The deque operations are given below.\n",
    "\n",
    "-   `Deque()` creates a new deque that is empty. It needs no parameters\n",
    "    and returns an empty deque.\n",
    "-   `add_front(item)` adds a new item to the front of the deque. It needs\n",
    "    the item and returns nothing.\n",
    "-   `add_rear(item)` adds a new item to the rear of the deque. It needs\n",
    "    the item and returns nothing.\n",
    "-   `remove_front()` removes the front item from the deque. It needs no\n",
    "    parameters and returns the item. The deque is modified.\n",
    "-   `remove_rear()` removes the rear item from the deque. It needs no\n",
    "    parameters and returns the item. The deque is modified.\n",
    "-   `is_empty()` tests to see whether the deque is empty. It needs no\n",
    "    parameters and returns a boolean value.\n",
    "-   `size()` returns the number of items in the deque. It needs no\n",
    "    parameters and returns an integer.\n",
    "\n",
    "As an example, if we assume that `d` is a deque that has been created\n",
    "and is currently empty, the table below shows the results\n",
    "of a sequence of deque operations.\n",
    "\n",
    "\n",
    "Deque Operation | Deque Contents | Return Value\n",
    "--- | --- | ---\n",
    "`d.is_empty()` | `[]` |  `True`\n",
    "`d.add_rear(4)` |    `[4]` |\n",
    "`d.add_rear('dog')` |    `['dog', 4]` |\n",
    "`d.add_front('cat')` |   `['dog', 4, 'cat']` |\n",
    "`d.add_front(True)` |    `['dog', 4,'cat', True]` |\n",
    "`d.size()` |    `['dog', 4, 'cat', True]` |   `4`\n",
    "`d.is_empty()` | `['dog', 4, 'cat', True]` |   `False`\n",
    "`d.add_rear(8.4)` |  `[8.4, 'dog', 4, 'cat',True]` |\n",
    "`d.remove_rear()` |  `['dog', 4, 'cat', True]` |   `8.4`\n",
    "`d.remove_front()` | `['dog', 4, 'cat'] | `True`\n",
    "\n",
    "\n",
    "In practice, the most straightforward way to utilize a deque in Python will be to import `deque` from the `collections` module. For illustration purposes however, below we present a possible implementation of a deque using a Python list as the underlying concrete data type."
   ]
  },
  {
   "cell_type": "code",
   "execution_count": 1,
   "metadata": {},
   "outputs": [],
   "source": [
    "class Deque(object):\n",
    "    def __init__(self):\n",
    "        self._items = []\n",
    "\n",
    "    def is_empty(self):\n",
    "        return self._items == []\n",
    "\n",
    "    def add_front(self, item):\n",
    "        self._items.append(item)\n",
    "\n",
    "    def add_rear(self, item):\n",
    "        self._items.insert(0,item)\n",
    "\n",
    "    def remove_front(self):\n",
    "        return self._items.pop()\n",
    "\n",
    "    def remove_rear(self):\n",
    "        return self._items.pop(0)\n",
    "\n",
    "    def size(self):\n",
    "        return len(self._items)"
   ]
  },
  {
   "cell_type": "markdown",
   "metadata": {},
   "source": [
    "n `remove_front` we use the `pop` method to remove the last element from\n",
    "the list. However, in `remove_rear`, the `pop(0)` method must remove the\n",
    "first element of the list. Likewise, we need to use the `insert` method\n",
    "in `add_rear` since the `append` method assumes the addition of\n",
    "a new element to the end of the list.\n",
    "\n",
    "You can see many similarities to Python code already described for\n",
    "stacks and queues. You are also likely to observe that in this\n",
    "implementation adding and removing items from the front is $$O(1)$$ whereas\n",
    "adding and removing from the rear is $$O(n)$$. This is to be expected given\n",
    "the common operations that appear for adding and removing items. Again,\n",
    "the important thing is to be certain that we know where the front and\n",
    "rear are assigned in the implementation.\n"
   ]
  },
  {
   "cell_type": "markdown",
   "metadata": {},
   "source": [
    "#### Palindrome Checker\n",
    "\n",
    "An interesting problem that can be easily solved using the deque data\n",
    "structure is the classic palindrome problem. A **palindrome** is a\n",
    "string that reads the same forward and backward, for example, *radar*,\n",
    "*toot*, and *madam*. We would like to construct an algorithm to input a\n",
    "string of characters and check whether it is a palindrome.\n",
    "\n",
    "The solution to this problem will use a deque to store the characters of\n",
    "the string. We will process the string from left to right and add each\n",
    "character to the rear of the deque. At this point, the deque will be\n",
    "acting very much like an ordinary queue. However, we can now make use of\n",
    "the dual functionality of the deque. The front of the deque will hold\n",
    "the first character of the string and the rear of the deque will hold\n",
    "the last character.\n",
    "\n",
    "![Deque-based is_palindrome strategy](figures/palindrome.png)\n",
    "\n",
    "Since we can remove both of them directly, we can compare them and\n",
    "continue only if they match. If we can keep matching first and the last\n",
    "items, we will eventually either run out of characters or be left with a\n",
    "deque of size 1 depending on whether the length of the original string\n",
    "was even or odd. In either case, the string must be a palindrome. A complete implementation for this strategy may look like:"
   ]
  },
  {
   "cell_type": "code",
   "execution_count": 2,
   "metadata": {},
   "outputs": [
    {
     "data": {
      "text/plain": [
       "True"
      ]
     },
     "execution_count": 2,
     "metadata": {},
     "output_type": "execute_result"
    }
   ],
   "source": [
    "from collections import deque\n",
    "\n",
    "\n",
    "def is_palindrome(characters):\n",
    "    character_deque = deque(characters)\n",
    "\n",
    "    while len(character_deque) > 1:\n",
    "        first = character_deque.popleft()\n",
    "        last = character_deque.pop()\n",
    "        if first != last:\n",
    "            return False\n",
    "\n",
    "    return True\n",
    "\n",
    "\n",
    "is_palindrome('lsdkjfskf')   # => False\n",
    "is_palindrome('radar')   # => True"
   ]
  },
  {
   "cell_type": "code",
   "execution_count": null,
   "metadata": {},
   "outputs": [],
   "source": []
  }
 ],
 "metadata": {
  "kernelspec": {
   "display_name": "Python 3",
   "language": "python",
   "name": "python3"
  },
  "language_info": {
   "codemirror_mode": {
    "name": "ipython",
    "version": 3
   },
   "file_extension": ".py",
   "mimetype": "text/x-python",
   "name": "python",
   "nbconvert_exporter": "python",
   "pygments_lexer": "ipython3",
   "version": "3.7.5rc1"
  }
 },
 "nbformat": 4,
 "nbformat_minor": 2
}
