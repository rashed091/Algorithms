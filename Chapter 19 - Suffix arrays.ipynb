{
 "cells": [
  {
   "cell_type": "markdown",
   "metadata": {},
   "source": [
    "<p><strong>Motivation Problem:</strong> Given a string $S$, find the longest sub string that occurs at least $M$ times.</p>\n",
    "<p><strong>Brute Force method:</strong> For every sub string $X$ of $S$, one can find all the occurrences of $X$ in $S$ by $KMP$. $KMP$ takes $O(N)$ time, so the total time for this brute force method will be $O(N^3)$.</p>\n",
    "<p><strong>A faster solution using hashing:</strong> We can binary search the length of the sub string. For a current length $X$ in the binary search, hash of every sub string of length $X$ can be found in $O(N)$ time. While doing this, the hashes can be stored in a dictionary, and when all sub strings of length $X$ are processed, the hash with maximum frequency is to be checked if it has frequency greater than equal to $M$. This takes $O(N (log(N))^2)$ time, where a log term comes due to maintaining the dictionary(map in C++).</p>\n",
    "<p><strong>A solution using Suffix Array:</strong></p>\n",
    "<p>A Suffix Array is a sorted array of suffixes of a string. Only the indices of suffixes are stored in the string instead of whole strings. For example: Suffix Array of <strong>\"banana\"</strong> would look like this: </p>\n",
    "<p>$5 \\rightarrow $ $a$</p>\n",
    "<p>$3 \\rightarrow $ $ana$</p>\n",
    "<p>$1 \\rightarrow $ $anana$</p>\n",
    "<p>$0 \\rightarrow $ $banana$</p>\n",
    "<p>$4 \\rightarrow $ $na$</p>\n",
    "<p>$2 \\rightarrow $ $nana$</p>\n",
    "<p>One naive way to make the suffix array would be to store all suffixes in an array and sort them. If we use an $O(N log(N))$ comparison based sorting algorithm, then the total time to make the suffix array would be $O(N^2 log N)$, because string comparison takes $O(N)$ time. This is too slow for large strings.</p>\n",
    "<p>Below is shown an $O(N (log N)^2)$ algorithm that constructs the suffix array. There is an $O(N log N)$ algorithm and even an $O(N)$ algorithm to construct suffix array, but in a programming contest environment, it is much easier to implement an $O(N (log N)^2)$ algorithm. Also the difference between an $O(N (log N)^2)$ and $O(N log N)$ algorithm is scarcely noticeable for strings up to length $10^5$.</p>\n",
    "<p>The algorithm is based on keeping the ranks of suffixes when the suffixes are sorted by their first $2^k$ characters in the $k^{th}$ step. Therefore we will execute $O(log N)$ steps to completely build the suffix array.</p>\n",
    "<p>It can be easily seen that, comparison of $2$ strings should be optimised, and should be done in better than $O(N)$. It can actually be done and the string comparison of $2$ suffixes can be done in $O(1)$ time. To do this, the fact that $2$ suffixes of the same string are being sorted should be used.</p>\n",
    "<p>Now suppose that an order relation between the suffixes has been obtained when they are sorted by their first $2^k$ characters. That is, $k$ steps of the algorithm have been done. Now to obtain the order relation in $(k+1)^{th}$ step, best possible use of order relations in previous steps must be done. Now in the $(k+1)^{th}$ step, suppose comparison of $2$ suffixes at indices $i$ and $j$ needs to be done. Let us denote the rank of $y^{th}$ suffix after $x$ steps by $P_{xy}$.</p>\n",
    "\n",
    "<p><strong>Observation:</strong> A string of length $2^{k+1}$ can be broken down into $2$ strings of length $2^k$. If $P_{k_i} \\lt P_{k_j}$, then $P_{(k+1)i} \\lt P_{(k+1)_j}$ and we know the relation. Else if $P_{k_i} \\gt P_{k_j}$, then again we know the relation between them. If $P_{k_i} = P_{k_j}$, then we can obtain the relation between $P_{(k+1)_i}$ and $P_{(k+1)_j}$ by comparing $P_{k(i+2^k)}$ and $P_{k(j+2^k)}$, because the first $2^k$ characters of the suffixes starting at indices $i$ and $j$ are same as $P_{ki}$ = $P_{kj}$. If $P_{k(i+2^k)}$ and $P_{k(j+2^k)}$ are also same, then we assign the same rank to both the suffixes.</p>\n",
    "<p>Therefore at step $(k+1)$, to compare $2$ suffixes in $O(1)$ time, a tuple of $2$ integers can be stored for each suffix. Let us name the suffix $suf$ and its index be $i$. First integer of tuple that will be stored for $suf$ would be $P_{ki}$, that is the rank of $suf$ when it was sorted by first $2^k$ characters. Second integer of tuple that will be stored would be $P_{k(i+2^k)}$, that is the rank of suffix starting at index $(i+2^k)$, when it was sorted by the first $2^k$ characters. This tuple is enough to compare $2$ suffixes in $O(1)$ time as shown above. </p>\n",
    "\n",
    "<p>It might be possible that $(i+2^k)$ exceeds the string length. In that case some negative number can be assigned to the second integer of tuple of $suf$, so that lexicographic order can be maintained. The importance of assigning a negative number to the second integer of tuple can be understood as follows: Let there be $2$ suffixes that are ranked same according to their first $2^k$ characters and let length of first suffix be greater or equal to $2^{k+1}$ and let length of second suffix be less than $2^{k+1}$. As the rank of these suffixes is same according to their first $2^k$ characters, second suffix should surely come before the first suffix in lexicographical ordering because it is of lesser length. Therefore assigning a negative number to the second integer of tuple can help here.</p>\n",
    "<p>Here is some <strong>pseudo code</strong> to construct suffix array.</p>"
   ]
  },
  {
   "cell_type": "code",
   "execution_count": null,
   "metadata": {},
   "outputs": [],
   "source": []
  }
 ],
 "metadata": {
  "kernelspec": {
   "display_name": "Python 3",
   "language": "python",
   "name": "python3"
  },
  "language_info": {
   "codemirror_mode": {
    "name": "ipython",
    "version": 3
   },
   "file_extension": ".py",
   "mimetype": "text/x-python",
   "name": "python",
   "nbconvert_exporter": "python",
   "pygments_lexer": "ipython3",
   "version": "3.7.3"
  }
 },
 "nbformat": 4,
 "nbformat_minor": 2
}
