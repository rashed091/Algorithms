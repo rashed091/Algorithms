{
 "cells": [
  {
   "cell_type": "markdown",
   "metadata": {},
   "source": [
    "<h2>Introduction</h2>\n",
    "<ul>\n",
    "<li><p>Sorting is the process of assigning the elements of a collection (e.g. list) in <strong>a particular order</strong> (e.g. put words in an alphabetical order).</p></li>\n",
    "<li><p>A simplistic <em>systematic way</em> to sort the elements of a collection is, <em>first</em>, to compare two values from the collection seeing which is the smaller (or greater).</p></li>\n",
    "<li><p>And, <em>second</em>, if the two values are not in the correct order, based on their <em>comparison</em>, we need to <em>exchange</em> them.</p></li>\n",
    "<li><p>This <em>exchange</em> is expensive and, therefore, the total <em>number</em> of the needed exchanges will indicate the <em>efficiency</em> of a sorting algorithm.</p></li>\n",
    "</ul>\n",
    "</div>\n",
    "<div id=\"the-sorting-problem\" class=\"section level2\">\n",
    "<h2>The Sorting Problem</h2>\n",
    "<ul>\n",
    "<li><strong>Input:</strong> Sequence of <em>n</em> values <span class=\"math inline\">\\(c_1,c_2,c_3,...,c_n\\)</span></li>\n",
    "<li><strong>Output:</strong> Reordered (permutation) <span class=\"math inline\">\\(c'_1,c'_2,c'_3,...,c'_n\\)</span> of the input sequence with the order <span class=\"math inline\">\\(c'_1 \\leq c'_2 \\leq c'_3 ... \\leq c'_n\\)</span></li>\n",
    "</ul>\n",
    "<p>Example:</p>\n",
    "<ul>\n",
    "<li><strong>Input:</strong> <span class=\"math inline\">\\(6,4,3,1,2,5\\)</span></li>\n",
    "<li><strong>Output:</strong> <span class=\"math inline\">\\(1,2,3,4,5,6\\)</span></li>\n",
    "</ul>\n",
    "</div>\n",
    "<div id=\"the-sorting-problem-1\" class=\"section level2\">\n",
    "<h2>The Sorting Problem</h2>\n",
    "\n",
    "![](figures/sorting_algo.svg)\n",
    "\n",
    "You have to arrange the sticks in descending order, how would you process this?"
   ]
  },
  {
   "cell_type": "markdown",
   "metadata": {},
   "source": [
    "### Bubble Sort\n",
    "<p>Bubble sort is based on the idea of repeatedly comparing pairs of adjacent elements and then swapping their positions if they exist in the wrong order. </p>\n",
    "<p>Assume that $A [ ]$ is an unsorted array of $n$ elements. This array needs to be sorted in ascending order.  The pseudo code is as follows:  </p>"
   ]
  },
  {
   "cell_type": "code",
   "execution_count": null,
   "metadata": {},
   "outputs": [],
   "source": []
  },
  {
   "cell_type": "markdown",
   "metadata": {},
   "source": [
    "<p>Lets try to understand the pseudo code with an example:\n",
    "<code>A [ ] = { 7, 4, 5, 2}</code></p>\n",
    "<p><img alt=\"enter image description here\" src=\"https://he-s3.s3.amazonaws.com/media/uploads/2682167.png\" /></p>\n",
    "<p>In step 1, $7$ is compared with $4$. Since $7 \\gt 4$, $7$ is moved ahead of $4$. Since all the other elements are of a lesser value than $7$, $7$ is moved to the end of the array.  </p>\n",
    "<p>Now the array is $A[]=\\{4, 5, 2, 7\\}$. </p>\n",
    "<p>In step 2, $4$ is compared with $5$. Since $5 \\gt 4$ and both $4$ and $5$ are in ascending order, these elements are not swapped. However, when $5$ is compared with $2$, $5 \\gt 2$ and these elements are in descending order. Therefore, $5$ and $2$ are swapped.</p>\n",
    "<p>Now the array is $A[]=\\{4, 2, 5, 7\\}$. </p>\n",
    "<p>In step 3, the element $4$ is compared with $2$. Since $4 \\gt 2$ and the elements are in descending order, $4$ and $2$ are swapped.</p>\n",
    "<p>The sorted array is $A[]=\\{2, 4, 5, 7\\}$.   </p>\n",
    "<p><strong>Complexity:</strong> <br />\n",
    "The complexity of bubble sort is  $O(n^2)$  in both worst and average cases, because the entire array needs to be iterated for every element.</p>"
   ]
  },
  {
   "cell_type": "markdown",
   "metadata": {},
   "source": [
    "### Selection Sort\n",
    "<p>The Selection sort algorithm is based on the idea of finding the minimum or maximum element in an unsorted array and then putting it in its correct position in a sorted array.</p>\n",
    "<p>Assume that the array $A=[7,5,4,2]$ needs to be sorted in ascending order.</p>\n",
    "<p>The minimum element in the array i.e. $2$ is searched for and then swapped with the element that is currently located at the first position, i.e. $7$. Now the minimum element in the remaining unsorted array is searched for and put in the second position, and so on.</p>\n",
    "<p>Let’s take a look at the implementation.</p>"
   ]
  },
  {
   "cell_type": "markdown",
   "metadata": {},
   "source": [
    "<p>At $i^{th}$ iteration, elements from position $0$ to $i-1$ will be sorted.  </p>\n",
    "<p><img alt=\"enter image description here\" src=\"https://he-s3.s3.amazonaws.com/media/uploads/2888f5b.png\" /> </p>\n",
    "<p><strong>Time Complexity:</strong> </p>\n",
    "<p>To find the minimum element from the array of $N$ elements, $N-1$ comparisons are required. After putting the minimum element in its proper position, the size of an unsorted array reduces to  $N-1$ and then $N-2$ comparisons are required to find the minimum in the unsorted array.   </p>\n",
    "<p>Therefore $(N-1)$ + $(N-2 )$ + $.......$ + $1$ = $( N \\cdot (N-1) ) / 2$ comparisons and $N$ swaps result in the overall complexity of $O( N^2 )$.   </p>"
   ]
  },
  {
   "cell_type": "markdown",
   "metadata": {},
   "source": [
    "### Insertion Sort\n",
    "<p>Insertion sort is based on the idea that one element from the input elements is consumed in each iteration to find its correct position i.e, the position to which it belongs in a sorted array.  </p>\n",
    "<p>It iterates the input elements by growing the sorted array at each iteration. It compares the current element with the largest value in the sorted array. If the current element is greater, then it leaves the element in its place and moves on to the next element else it finds its correct position in the sorted array and moves it to that position. This is done by shifting all the elements, which are larger than the current element,  in the sorted array to one position ahead</p>"
   ]
  },
  {
   "cell_type": "code",
   "execution_count": null,
   "metadata": {},
   "outputs": [],
   "source": []
  },
  {
   "cell_type": "markdown",
   "metadata": {},
   "source": [
    "<p>Take array $$A[] = [7, 4, 5, 2]$$.    </p>\n",
    "<p><img alt=\"enter image description here\" src=\"https://he-s3.s3.amazonaws.com/media/uploads/46bfac9.png\" /></p>\n",
    "<p>Since $$7$$ is the first element has no other element to be compared with, it remains at its position. Now when on moving towards $$4$$, $$7$$ is the largest element in the sorted list and greater than $$4$$. So, move $$4$$ to its correct position i.e. before $$7$$. Similarly with $$5$$, as $$7$$ (largest element in the sorted list) is greater than $$5$$, we will move $$5$$ to its correct position. Finally for $$2$$, all the elements on the left side of $$2$$  (sorted list) are moved one position forward as all are greater than $$2$$ and then $$2$$ is placed in the first position. Finally, the given array will result in a sorted array.</p>\n",
    "<p><strong>Time Complexity:</strong> </p>\n",
    "<p>In worst case,each element is compared with all the other elements in the sorted array. For $$N$$ elements, there will be $$N^2$$ comparisons. Therefore, the time complexity is $$O(N^2)$$ </p>"
   ]
  },
  {
   "cell_type": "markdown",
   "metadata": {},
   "source": [
    "### Merge Sort\n",
    "<p>Merge sort is a divide-and-conquer algorithm based on the idea of breaking down a list into several sub-lists until each sublist consists of a single element and merging those sublists in a manner that results into a sorted list. </p>\n",
    "<p><strong>Idea:</strong> </p>\n",
    "<ul>\n",
    "<li>Divide the unsorted list into $$N$$ sublists, each containing $$1$$ element.  </li>\n",
    "<li>Take adjacent pairs of two singleton lists and merge them to form a list of 2 elements. $$N$$ will now convert into $$N/2$$ lists of size 2.</li>\n",
    "<li>Repeat the process till a single sorted list of obtained.  </li>\n",
    "</ul>\n",
    "<p>While comparing two sublists for merging, the first element of both lists is taken into consideration. While sorting in ascending order, the element that is of a lesser value becomes a new element of the sorted list. This procedure is repeated until both the smaller sublists are empty and the new combined sublist comprises all the elements of both the sublists.</p>\n",
    "<p><strong>Let’s consider the following image</strong></p>\n",
    "<p><img alt=\"enter image description here\" src=\"https://he-s3.s3.amazonaws.com/media/uploads/37deb43.jpg\" /></p>\n",
    "<p>As one may understand from the image above, at each step a list of size $$M$$ is being divided into $$2$$ sublists of size $$M / 2$$, until no further division can be done. To understand better, consider a smaller array $$A$$ containing the elements $$(9,7,8)$$. </p>\n",
    "<p>At the first step this list of size $$3$$ is divided into $$2$$ sublists the first consisting of elements $$(9,7)$$ and the second one being $$(8)$$. Now, the first list consisting of elements $$(9,7)$$ is further divided into $$2$$ sublists consisting of elements $$(9)$$ and $$(7)$$ respectively.  </p>\n",
    "<p>As no further breakdown of this list can be done, as each sublist consists of a maximum of $$1$$ element, we now start to merge these lists. The $$2$$ sub-lists formed in the last step are then merged together in sorted order using the procedure mentioned above leading to a new list $$(7,9)$$. Backtracking further, we then need to merge the list consisting of element $$(8)$$ too with this list, leading to the new sorted list $$(7,8,9)$$.</p>\n",
    "<p><br />\n",
    "An implementation has been provided below : </p>"
   ]
  },
  {
   "cell_type": "code",
   "execution_count": null,
   "metadata": {},
   "outputs": [],
   "source": []
  },
  {
   "cell_type": "markdown",
   "metadata": {},
   "source": [
    "<p>Here, in merge function, we will merge two parts of the arrays where one part has starting and ending positions from start to mid respectively and another part has positions from mid+1 to the end.  </p>\n",
    "<p>A beginning is made from the starting parts of both arrays. i.e. p and q. Then the respective elements of both the parts are compared and the one with the smaller value will be stored in the auxiliary array (Arr[ ]). If at some condition ,one part comes to end ,then all the elements of another part of array are added in the auxiliary array in the same order they exist.</p>\n",
    "<p>Now consider the following 2 branched recursive function : </p>"
   ]
  },
  {
   "cell_type": "code",
   "execution_count": null,
   "metadata": {},
   "outputs": [],
   "source": []
  },
  {
   "cell_type": "markdown",
   "metadata": {},
   "source": [
    "<p><strong>Time Complexity:</strong><br />\n",
    "The list of size $$N$$ is divided into a max of $$log N$$ parts, and the merging of all sublists into a single list takes $$O(N)$$ time, the worst case run time of this algorithm is $$O(N Log N)$$ </p>"
   ]
  },
  {
   "cell_type": "markdown",
   "metadata": {},
   "source": [
    "### Quick Sort\n",
    "<p>Quick sort is based on the divide-and-conquer approach based on the idea of choosing one element as a pivot element and partitioning the array around it such that:\n",
    "Left side of pivot contains all the elements that are less than the pivot element\n",
    "Right side contains all elements greater than the pivot </p>\n",
    "<p>It reduces the space complexity and removes the use of the auxiliary array that is used in merge sort. Selecting a random pivot in an array results in an improved time complexity in most of the cases. </p>\n",
    "<p><strong>Implementation</strong> :  </p>\n",
    "<p>Select the first element of array as the pivot element\n",
    "First, we will see how the partition of the array takes place around the pivot. <br /> </p>\n",
    "<p><img alt=\"enter image description here\" src=\"https://he-s3.s3.amazonaws.com/media/uploads/06e770e.png\" />\n",
    "<br /> \n",
    "In the implementation below, the following components have been used:\n",
    "Here, $$A[]$$ = array whose elements are to be sorted </p>\n",
    "<p>$$ start $$:  Leftmost position of the array</p>\n",
    "<p>$$ end $$: Rightmost position of the array </p>\n",
    "<p>$$i$$ : Boundary between the elements that are less than pivot and those greater than pivot</p>\n",
    "<p>$$j$$ : Boundary between the partitioned and unpartitioned part of array</p>\n",
    "<p>$$ piv $$: Pivot element   </p>"
   ]
  },
  {
   "cell_type": "markdown",
   "metadata": {},
   "source": [
    "<p><img alt=\"enter image description here\" src=\"https://he-s3.s3.amazonaws.com/media/uploads/1ea505b.jpg\" /></p>\n",
    "<p><br /> </p>\n",
    "<p>Here we find the proper position of the pivot element by rearranging the array using partition function. Then we divide the array into two halves left side of the pivot (elements less than pivot element) and right side of the pivot (elements greater than pivot element) and apply the same step recursively.</p>\n",
    "<p>Example:\n",
    "You have an array $$A=[9,7,8,3,2,1] $$ \n",
    "Observe in the diagram below, that the $$randpartition()$$ function chooses pivot randomly as $$7$$ and then swaps it with the first element of the array and then the $$partition()$$ function call takes place, which divides the array into two halves. The first half has elements less than $$7$$ and the other half has elements greater than $$7$$.<br />\n",
    "For elements less than $$7$$, in $$5^{th}$$ call, $$randpartition()$$ function chooses $$2$$ as pivot element randomly and then swap it with first element and call to the $$partition()$$ function takes place. After the $$7{th}$$ and $$8{th}$$ call, no further calls can take place as only one element left in both the calls. Similarly, you can observe the order of calls for the elements greater than $$7$$.  </p>"
   ]
  },
  {
   "cell_type": "markdown",
   "metadata": {},
   "source": [
    "<p>Use $$randpartition()$$ instead of $$partition()$$ function in $$quicksort()$$ function to reduce the time complexity of this algorithm.  </p>\n",
    "<p>Complexity\n",
    "The worst case time complexity of this algorithm is $$O(N^2)$$ , but as this is randomized algorithm, its time complexity fluctuates between $$O(N^2)$$  and $$O(NlogN)$$ and mostly it comes out to be $$O(NlogN)$$  </p>"
   ]
  },
  {
   "cell_type": "markdown",
   "metadata": {},
   "source": [
    "### Counting Sort\n",
    "<p>In Counting sort, the frequencies of distinct elements of the array to be sorted is counted and stored in an auxiliary array, by mapping its value as an index of the auxiliary array.  </p>\n",
    "<p><strong>Algorithm:</strong> </p>\n",
    "<p>Let's assume that, array $$A$$ of size $$N$$ needs to be sorted.  </p>\n",
    "<ul>\n",
    "<li>Initialize the auxillary array $$Aux[]$$ as $$0$$. <br />\n",
    "<strong>Note:</strong> The size of this array should be $$ \\ge max(A[]) $$.    </li>\n",
    "<li>Traverse array $$A$$ and store the count of occurrence of each element in the appropriate index of the $$Aux$$ array, which means, execute <code>Aux[A[i]]++</code> for each $$i$$, where $$i$$ ranges from $$[0, N-1]$$.    </li>\n",
    "<li>Initialize the empty array $$sortedA[]$$  </li>\n",
    "<li>Traverse array $$Aux$$ and copy $$i$$ into $$sortedA$$ for $$Aux[i]$$ number of times where $$0 \\le i \\le max(A[])$$.        </li>\n",
    "</ul>\n",
    "<p><strong>Note:</strong> The array $$A$$ can be sorted by using this algorithm only if the maximum value in array $$A$$ is less than the maximum size of the array $$Aux$$. Usually, it is possible to allocate memory up to the order of a million $$(10^6)$$. If the maximum value of $$A$$ exceeds the maximum memory- allocation size, it is recommended that you do not use this algorithm. Use either the <a href=\"https://www.hackerearth.com/practice/algorithms/sorting/quick-sort/tutorial/\">quick sort</a> or <a href=\"https://www.hackerearth.com/practice/algorithms/sorting/merge-sort/tutorial/\">merge sort</a> algorithm.</p>\n",
    "<p><strong>Implementation:</strong> </p>\n",
    "<p>Assume that the maximum element that can be in the array is $$K$$ . <br />\n",
    "Now take an $$Aux[]$$ array of size $$K +1$$.<br />\n",
    "$$A[ ]$$ = Array to be sorted.<br />\n",
    "$$sortedA[ ]$$ = Sorted version of $$A[ ]$$.   </p>"
   ]
  },
  {
   "cell_type": "markdown",
   "metadata": {},
   "source": [
    "<p>Example:<br />\n",
    "Say $$A = \\{5, 2, 9, 5, 2, 3, 5\\}$$.  </p>\n",
    "<p>$$Aux$$ will be of the size $$9+1$$ i.e. $$10$$     </p>\n",
    "<p>$$Aux = \\{0, 0, 2, 1, 0, 3, 0, 0, 0, 2\\}$$.  <br />\n",
    "Notice that $$Aux[ 2 ] = 2$$ which represents the number of occurrences of $$2$$ in $$A[]$$. Similarly $$Aux[5] = 3$$ which represents the number occurrences of $$5$$ in $$A[]$$.   </p>\n",
    "<p>After applying the counting sort algorithm, $$sortedA[]$$ will be $$\\{2, 2, 3, 5, 5, 5, 9\\}$$</p>\n",
    "<p><strong>Time Complexity:</strong><br />\n",
    "The array $$A$$ is traversed in $$O(N)$$ time and the resulting sorted array is also computed in $$O(N)$$ time. $$Aux[]$$ is traversed in $$O(K)$$ time. Therefore, the overall time complexity of counting sort algorithm is $$O(N+K)$$.  </p>"
   ]
  },
  {
   "cell_type": "markdown",
   "metadata": {},
   "source": [
    "### Radix Sort\n",
    "<p>QuickSort, MergeSort, HeapSort are comparison based sorting algorithms.<br />\n",
    "CountSort is not comparison based algorithm. It has the complexity of $$O(n+k)$$, where $$k$$ is the maximum element of the input array.<br />\n",
    "So, if $$k$$ is $$O(n)$$ ,CountSort becomes linear sorting, which is better than comparison based sorting algorithms that have $$O(n log n)$$ time complexity. The idea is to extend the CountSort algorithm to get a better time complexity when k goes $$O(n^2)$$. Here comes the idea of Radix Sort.<br /><br />\n",
    "<strong>Algorithm</strong>:<br />\n",
    "For each digit $$i$$ where $$i$$ varies from the least significant digit to the most significant digit of a number<br />\n",
    "    Sort input array using countsort algorithm according to ith digit.<br />\n",
    "<br />We used count sort because it is a stable sort.<br />\n",
    "<br />\n",
    "<strong>Example</strong>: Assume the input array is:<br />\n",
    "10,21,17,34,44,11,654,123<br />\n",
    "Based on the algorithm, we will sort the input array according to the <strong>one's digit</strong> (least significant digit).<br />\n",
    "0: 10 <br />\n",
    "1: 21 11 <br />\n",
    "2: <br />\n",
    "3: 123 <br />\n",
    "4: 34 44 654 <br />\n",
    "5: <br />\n",
    "6: <br />\n",
    "7: 17 <br />\n",
    "8: <br />\n",
    "9: <br /><br />\n",
    "So, the array becomes 10,21,11,123,24,44,654,17<br />\n",
    "Now, we'll sort according to the <strong>ten's digit</strong>:<br />\n",
    "0: <br />\n",
    "1: 10 11 17<br />\n",
    "2: 21 123<br />\n",
    "3: 34<br />\n",
    "4: 44<br />\n",
    "5: 654<br />\n",
    "6: <br />\n",
    "7: <br />\n",
    "8: <br />\n",
    "9: <br /><br />\n",
    "Now, the array becomes : 10,11,17,21,123,34,44,654<br />\n",
    "Finally , we sort according to the <strong>hundred's digit</strong> (most significant digit):<br />\n",
    "0: 010 011 017 021 034 044<br />\n",
    "1: 123<br />\n",
    "2: <br />\n",
    "3: <br />\n",
    "4: <br />\n",
    "5: <br />\n",
    "6: 654<br />\n",
    "7: <br />\n",
    "8: <br />\n",
    "9: <br /><br />\n",
    "The array becomes : 10,11,17,21,34,44,123,654 which is sorted. This is how our algorithm works. <br />\n",
    "<br />\n",
    "<strong>Implementation</strong>: <br /></p>"
   ]
  },
  {
   "cell_type": "markdown",
   "metadata": {},
   "source": [
    "<strong>Complexity Analysis</strong>: <br />\n",
    "The complexity is $$O((n+b)* log_b(maxx))$$ where $$b$$ is the base for representing numbers and $$maxx$$ is the maximum element of the input array. This is clearly visible as we make $$(n+b)$$ iterations $$log_b(maxx)$$ times (number of digits in the maximum element) . If $$maxx \\le n^c$$,then the complexity can be written as $$O(n * log_b(n))$$. <br /><p></p>\n",
    "<p><strong>Advantages</strong> : <br />\n",
    "1. Fast when the keys are short i.e. when the range of the array elements is less.<br />\n",
    "2. Used in suffix array constuction algorithms like Manber's algorithm and DC3 algorithm.<br />\n",
    "<br />\n",
    "<strong>Disadvantages</strong>:<br />\n",
    "1. Since Radix Sort depends on digits or letters, Radix Sort is much less flexible than other sorts. Hence , for every different type of data it needs to be rewritten.<br />\n",
    "2. The constant for Radix sort is greater compared to other sorting algorithms.<br />\n",
    "3. It takes more space compared to Quicksort which is inplace sorting.<br /><br /></p>\n",
    "<p>The Radix Sort algorithm is an important sorting algorithm that  is integral to suffix -array construction algorithms. It is also useful on parallel machines.</p>"
   ]
  },
  {
   "cell_type": "markdown",
   "metadata": {},
   "source": [
    "### Heap Sort\n",
    "<p>Heaps can be used in sorting an array. In max-heaps, maximum element will always be at the root. Heap Sort uses this property of heap to sort the array.</p>\n",
    "<p>Consider an array $$ Arr $$ which is to be sorted using Heap Sort.</p>\n",
    "<ul>\n",
    "<li>Initially build a max heap of elements in $$ Arr $$.</li>\n",
    "<li>The root element, that is $$Arr[1]$$, will contain maximum element of\n",
    "   $$ Arr $$. After that, swap this element with the last element of $$ Arr $$ and\n",
    "   heapify the max heap excluding the last element which is already in\n",
    "   its correct position and then decrease the length of heap by one.</li>\n",
    "<li>Repeat the step 2, until all the elements are in their correct\n",
    "   position.</li>\n",
    "</ul>\n",
    "<p><strong>Implementation:</strong>"
   ]
  },
  {
   "cell_type": "markdown",
   "metadata": {},
   "source": [
    "<p><strong>Complexity:</strong> <br />\n",
    "max_heapify has complexity $$ O(logN) $$, build_maxheap has complexity $$O(N)$$ and we run max_heapify $$N-1$$ times in heap_sort function, therefore complexity of heap_sort function is $$O(NlogN)$$.   </p>\n",
    "<p><strong>Example:</strong><br />\n",
    "In the diagram below,initially there is an unsorted array Arr having 6 elements and then max-heap will be built. </p>\n",
    "<p><img alt=\"enter image description here\" src=\"https://he-s3.s3.amazonaws.com/media/uploads/c9fa843.png\" /></p>\n",
    "<p>After building max-heap, the elements in the array $$Arr$$ will be: </p>\n",
    "<p><img alt=\"enter image description here\" src=\"https://he-s3.s3.amazonaws.com/media/uploads/dbe3d72.png\" /></p>\n",
    "<p>Step 1: 8 is swapped with 5.<br />\n",
    "Step 2: 8 is disconnected from heap as 8 is in correct position now and.<br />\n",
    "Step 3: Max-heap is created and 7 is swapped with 3.<br />\n",
    "Step 4: 7 is disconnected from heap.<br />\n",
    "Step 5: Max heap is created and 5 is swapped with 1.<br />\n",
    "Step 6: 5 is disconnected from heap.<br />\n",
    "Step 7: Max heap is created and 4 is swapped with 3.<br />\n",
    "Step 8: 4 is disconnected from heap.<br />\n",
    "Step 9: Max heap is created and 3 is swapped with 1.<br />\n",
    "Step 10: 3 is disconnected.  </p>\n",
    "<p><img alt=\"enter image description here\" src=\"https://he-s3.s3.amazonaws.com/media/uploads/e9d6f12.png\" /></p>\n",
    "<p>After all the steps, we will get a sorted array.</p>\n",
    "<p><img alt=\"enter image description here\" src=\"https://he-s3.s3.amazonaws.com/media/uploads/e0a7b19.png\" /></p>"
   ]
  },
  {
   "cell_type": "code",
   "execution_count": null,
   "metadata": {},
   "outputs": [],
   "source": []
  },
  {
   "cell_type": "code",
   "execution_count": null,
   "metadata": {},
   "outputs": [],
   "source": []
  },
  {
   "cell_type": "code",
   "execution_count": null,
   "metadata": {},
   "outputs": [],
   "source": []
  },
  {
   "cell_type": "code",
   "execution_count": null,
   "metadata": {},
   "outputs": [],
   "source": []
  }
 ],
 "metadata": {
  "kernelspec": {
   "display_name": "Python 3",
   "language": "python",
   "name": "python3"
  },
  "language_info": {
   "codemirror_mode": {
    "name": "ipython",
    "version": 3
   },
   "file_extension": ".py",
   "mimetype": "text/x-python",
   "name": "python",
   "nbconvert_exporter": "python",
   "pygments_lexer": "ipython3",
   "version": "3.7.3"
  }
 },
 "nbformat": 4,
 "nbformat_minor": 2
}
