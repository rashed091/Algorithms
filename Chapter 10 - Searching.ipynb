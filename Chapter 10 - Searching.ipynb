{
 "cells": [
  {
   "cell_type": "markdown",
   "metadata": {},
   "source": [
    "In this section we will study searching. Searching is the algorithmic process of finding a particular item in a collection of items. A search typically answers either `True` or `False` as to whether the item is present. On occasion it may be modified to return where the item is found. For our purposes here, we will simply concern ourselves with the question of membership.\n",
    "\n",
    "In Python, there is a very easy way to ask whether an item is in a list of items. We use the `in` operator.\n",
    "\n",
    "```python\n",
    ">>> 15 in [3, 5, 2, 4, 1]\n",
    "False\n",
    ">>> 3 in [3, 5, 2, 4, 1]\n",
    "True\n",
    "```\n",
    "\n",
    "Given the ease of _conducting_ a search in Python, you may wonder what the purpose is of studying search as an algorithms problem. The answer is that the underlying process used to enable a search is important to understand as it arises elsewhere, such as in data structures designed for fast search, and particular in databases.\n",
    "\n",
    "It turns out that there are many different ways to search for an item in a collection. We focus here on the difference between two such ways—sequential search and binary search.\n"
   ]
  },
  {
   "cell_type": "markdown",
   "metadata": {},
   "source": [
    "When data items are stored in a collection such as a list, we say that\n",
    "they have a linear or sequential relationship. Each data item is stored\n",
    "in a position relative to the others. In Python lists, these relative\n",
    "positions are the index values of the individual items. Since these\n",
    "index values are ordered, it is possible for us to visit them in\n",
    "sequence. This process gives rise to our first searching technique, the\n",
    "**sequential search**.\n",
    "\n",
    "The diagram below shows how this search works. Starting at\n",
    "the first item in the list, we simply move from item to item, following\n",
    "the underlying sequential ordering until we either find what we are\n",
    "looking for or run out of items. If we run out of items, we have\n",
    "discovered that the item we were searching for was not present.\n",
    "\n",
    "![Sequential search of a list of integers](figures/sequential-search.png)\n",
    "\n",
    "The Python implementation for this algorithm is shown below. The function needs the list and\n",
    "the item we are looking for and returns a boolean value as to whether it\n",
    "is present. Remember in practice we would use the Python `in` operator for this purpose, so you can think of the below algorithm as what we would do if `in` were not provided for us."
   ]
  },
  {
   "cell_type": "code",
   "execution_count": 1,
   "metadata": {},
   "outputs": [
    {
     "data": {
      "text/plain": [
       "True"
      ]
     },
     "execution_count": 1,
     "metadata": {},
     "output_type": "execute_result"
    }
   ],
   "source": [
    "def sequential_search(alist, item):\n",
    "    position = 0\n",
    "\n",
    "    while position < len(alist):\n",
    "        if alist[position] == item:\n",
    "            return True\n",
    "        position = position + 1\n",
    "\n",
    "    return False\n",
    "\n",
    "testlist = [1, 2, 32, 8, 17, 19, 42, 13, 0]\n",
    "\n",
    "sequential_search(testlist, 3)  # => False\n",
    "sequential_search(testlist, 13)  # => True"
   ]
  },
  {
   "cell_type": "markdown",
   "metadata": {},
   "source": [
    "Analysis of Sequential Search\n",
    "-----------------------------\n",
    "\n",
    "To analyze searching algorithms, we need to decide on a basic unit of\n",
    "computation. Recall that this is typically the common step that must be\n",
    "repeated in order to solve the problem. For searching, it makes sense to\n",
    "count the number of comparisons performed. Each comparison may or may\n",
    "not discover the item we are looking for. In addition, we make another\n",
    "assumption here. The list of items is not ordered in any way. The items\n",
    "have been placed randomly into the list. In other words, the probability\n",
    "that the item we are looking for is in any particular position is\n",
    "exactly the same for each position of the list.\n",
    "\n",
    "If the item is not in the list, the only way to know it is to compare it\n",
    "against every item present. If there are $$n$$ items, then the sequential\n",
    "search requires $$n$$ comparisons to discover that the item is not there.\n",
    "In the case where the item is in the list, the analysis is not so\n",
    "straightforward. There are actually three different scenarios that can\n",
    "occur. In the best case we will find the item in the first place we\n",
    "look, at the beginning of the list. We will need only one comparison. In\n",
    "the worst case, we will not discover the item until the very last\n",
    "comparison, the nth comparison.\n",
    "\n",
    "What about the average case? On average, we will find the item about\n",
    "halfway into the list; that is, we will compare against $$\\frac{n}{2}$$\n",
    "items. Recall, however, that as *n* gets large, the coefficients, no\n",
    "matter what they are, become insignificant in our approximation, so the\n",
    "complexity of the sequential search, is $$O(n)$$:\n",
    "\n",
    "Case  |  Best Case |  Worst Case | Average Case\n",
    "--- | --- | --- | ---\n",
    "item is present | $$1$$ |  $$n$$ |  $$\\frac{n}{2}$$\n",
    "item is not present | $$n$$  | $$n$$  | $$n$$\n",
    "\n",
    "\n",
    "We assumed earlier that the items in our collection had been randomly\n",
    "placed so that there is no relative order between the items. What would\n",
    "happen to the sequential search if the items were ordered in some way?\n",
    "Would we be able to gain any efficiency in our search technique?\n",
    "\n",
    "Assume that the list of items was constructed so that the items were in\n",
    "ascending order, from low to high. If the item we are looking for is\n",
    "present in the list, the chance of it being in any one of the *n*\n",
    "positions is still the same as before. We will still have the same\n",
    "number of comparisons to find the item. However, if the item is not\n",
    "present there is a slight advantage. The diagram below\n",
    "shows this process as the algorithm looks for the item 50. Notice that\n",
    "items are still compared in sequence until 54. At this point, however,\n",
    "we know something extra. Not only is 54 not the item we are looking for,\n",
    "but no other elements beyond 54 can work either since the list is\n",
    "sorted.\n",
    "\n",
    "![Sequential search of an ordered list of integers](figures/sequential-search-2.png)\n",
    "\n",
    "In this case, the algorithm does not have to continue looking\n",
    "through all of the items to report that the item was not found. It can\n",
    "stop immediately. The code below shows this\n",
    "variation of the sequential search function.\n"
   ]
  },
  {
   "cell_type": "code",
   "execution_count": 2,
   "metadata": {},
   "outputs": [
    {
     "data": {
      "text/plain": [
       "True"
      ]
     },
     "execution_count": 2,
     "metadata": {},
     "output_type": "execute_result"
    }
   ],
   "source": [
    "def ordered_sequential_search(alist, item):\n",
    "    position = 0\n",
    "\n",
    "    while position < len(alist):\n",
    "        if alist[position] == item:\n",
    "            return True\n",
    "\n",
    "        if alist[position] > item:\n",
    "            return False\n",
    "\n",
    "        position = position + 1\n",
    "\n",
    "    return False\n",
    "\n",
    "testlist = [0, 1, 2, 8, 13, 17, 19, 32, 42,]\n",
    "ordered_sequential_search(testlist, 3)  # => False\n",
    "ordered_sequential_search(testlist, 13)  # => True"
   ]
  },
  {
   "cell_type": "markdown",
   "metadata": {},
   "source": [
    "The table below summarizes these results. Note that\n",
    "in the best case we might discover that the item is not in the list by\n",
    "looking at only one item. On average, we will know after looking through\n",
    "only $$\\frac {n}{2}$$ items. However, this technique is still $$O(n)$$. In\n",
    "summary, a sequential search is improved by ordering the list only in\n",
    "the case where we do not find the item.\n",
    "\n",
    "Case  |  Best Case |  Worst Case | Average Case\n",
    "--- | --- | --- | ---\n",
    "item is present | $$1$$ |  $$n$$ |  $$\\frac{n}{2}$$\n",
    "item is not present | $$n$$  | $$n$$  | $$\\frac{n}{2}$$\n"
   ]
  },
  {
   "cell_type": "markdown",
   "metadata": {},
   "source": [
    "It is possible to take greater advantage of the ordered list if we are\n",
    "clever with our comparisons. In the sequential search, when we compare\n",
    "against the first item, there are at most $$n-1$$ more items to look\n",
    "through if the first item is not what we are looking for. Instead of\n",
    "searching the list in sequence, a **binary search** will start by\n",
    "examining the middle item. If that item is the one we are searching for,\n",
    "we are done. If it is not the correct item, we can use the ordered\n",
    "nature of the list to eliminate half of the remaining items. If the item\n",
    "we are searching for is greater than the middle item, we know that the\n",
    "entire lower half of the list as well as the middle item can be\n",
    "eliminated from further consideration. The item, if it is in the list,\n",
    "must be in the upper half.\n",
    "\n",
    "We can then repeat the process with the upper half. Start at the middle\n",
    "item and compare it against what we are looking for. Again, we either\n",
    "find it or split the list in half, therefore eliminating another large\n",
    "part of our possible search space. The diagram below shows\n",
    "how this algorithm can quickly find the value 54.\n",
    "\n",
    "![Binary search of an ordered list of integers](figures/binary-search.png)\n",
    "\n",
    "This algorithm is\n",
    "a great example of a divide and conquer strategy. Divide and conquer\n",
    "means that we divide the problem into smaller pieces, solve the smaller\n",
    "pieces in some way, and then reassemble the whole problem to get the\n",
    "result. When we perform a binary search of a list, we first check the\n",
    "middle item. If the item we are searching for is less than the middle\n",
    "item, we can simply perform a binary search of the left half of the\n",
    "original list. Likewise, if the item is greater, we can perform a binary\n",
    "search of the right half. Either way, this is a recursive call to the\n",
    "binary search function passing a smaller list.\n",
    "\n",
    "An implementation of recursive binary search in Python may look like this:"
   ]
  },
  {
   "cell_type": "code",
   "execution_count": 3,
   "metadata": {},
   "outputs": [
    {
     "data": {
      "text/plain": [
       "True"
      ]
     },
     "execution_count": 3,
     "metadata": {},
     "output_type": "execute_result"
    }
   ],
   "source": [
    "def binary_search(alist, item):\n",
    "    if not alist:  # list is empty -- our base case\n",
    "        return False\n",
    "\n",
    "    midpoint = len(alist) // 2\n",
    "    if alist[midpoint] == item:  # found it!\n",
    "        return True\n",
    "\n",
    "    if item < alist[midpoint]:  # item is in the first half, if at all\n",
    "        return binary_search(alist[:midpoint], item)\n",
    "\n",
    "    # otherwise item is in the second half, if at all\n",
    "    return binary_search(alist[midpoint + 1:], item)\n",
    "\n",
    "\n",
    "testlist = [0, 1, 2, 8, 13, 17, 19, 32, 42]\n",
    "binary_search(testlist, 3)  # => False\n",
    "binary_search(testlist, 13)  # => True"
   ]
  },
  {
   "cell_type": "markdown",
   "metadata": {},
   "source": [
    "-------------------------\n",
    "\n",
    "To analyze the binary search algorithm, we need to recall that each\n",
    "comparison eliminates around half of the remaining items from\n",
    "consideration. What is the maximum number of comparisons this algorithm\n",
    "will require to check the entire list? If we start with *n* items, approximately\n",
    "$$\\frac{n}{2}$$ items will be left after the first comparison. After the\n",
    "second comparison, there will be approximately $$\\frac{n}{4}$$. Then\n",
    "$$\\frac{n}{8}$$, $$\\frac{n}{16}$$, and so on. How many times can we split\n",
    "the list? This table helps us to see the\n",
    "answer:\n",
    "\n",
    "Comparisons | Approximate Number of Items Left\n",
    "--- | ---\n",
    "1 |  $$\\frac{n}{2}$$\n",
    "2 |  $$\\frac{n}{4}$$\n",
    "3 |  $$\\frac{n}{8}$$\n",
    "... |\n",
    "i  | $$\\frac {n}{2^i}$$\n",
    "\n",
    "When we split the list enough times, we end up with a list that has just\n",
    "one item. Either that is the item we are looking for or it is not.\n",
    "Either way, we are done. The number of comparisons necessary to get to\n",
    "this point is *i* where $$\\frac {n}{2^i} =1$$. Solving for *i* gives us\n",
    "$$i=\\log n$$. The maximum number of comparisons is logarithmic with\n",
    "respect to the number of items in the list. Therefore, the binary search\n",
    "is $$O(\\log n)$$.\n",
    "\n",
    "One additional analysis issue needs to be addressed. In the\n",
    "solution shown above, the recursive call,\n",
    "\n",
    "`binary_search(alist[:midpoint], item)`\n",
    "\n",
    "uses the slice operator to create the left half of the list that is then\n",
    "passed to the next invocation (similarly for the right half as well).\n",
    "The analysis that we did above assumed that the slice operator takes\n",
    "constant time. However, we know that the slice operator in Python is\n",
    "actually $$O(k)$$. This means that the binary search using slice will not\n",
    "perform in strict logarithmic time. Luckily this can be remedied by\n",
    "passing the list along with the starting and ending indices. We\n",
    "leave this implementation as an exercise.\n",
    "\n",
    "Even though a binary search is generally better than a sequential\n",
    "search, it is important to note that for small values of *n*, the\n",
    "additional cost of sorting is probably not worth it. In fact, we should\n",
    "always consider whether it is cost effective to take on the extra work\n",
    "of sorting to gain searching benefits. If we can sort once and then\n",
    "search many times, the cost of the sort is not so significant. However,\n",
    "for large lists, sorting even once can be so expensive that simply\n",
    "performing a sequential search from the start may be the best choice.\n"
   ]
  },
  {
   "cell_type": "code",
   "execution_count": null,
   "metadata": {},
   "outputs": [],
   "source": []
  }
 ],
 "metadata": {
  "kernelspec": {
   "display_name": "Python 3",
   "language": "python",
   "name": "python3"
  },
  "language_info": {
   "codemirror_mode": {
    "name": "ipython",
    "version": 3
   },
   "file_extension": ".py",
   "mimetype": "text/x-python",
   "name": "python",
   "nbconvert_exporter": "python",
   "pygments_lexer": "ipython3",
   "version": "3.8.2"
  }
 },
 "nbformat": 4,
 "nbformat_minor": 4
}
