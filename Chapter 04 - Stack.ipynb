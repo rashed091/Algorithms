{
 "cells": [
  {
   "cell_type": "markdown",
   "metadata": {},
   "source": [
    "Stacks, queues, deques, and lists are data collections with items ordered according to how they are added or removed. Once an item is added, it stays in the same position relative to its neighbors. Because of this characteristic, we call these collections *linear data structures*.\n",
    "\n",
    "Linear structures can be thought of as having two ends, referred to variously as “left” and “right”, “top” and “bottom”, or “front” and “rear”. What distinguishes one linear structure from another is where additions and removals may occur. For example, a structure might only allow new items to be added at one end and removed at another; another may allow addition or removal from either end.\n",
    "\n",
    "These variations give rise to some of the most useful data structures in computer science. They appear in many algorithms and can be used to solve a variety of important problems.\n",
    "\n",
    "Stacks\n",
    "---\n",
    "\n",
    "A *stack* is an ordered collection of items where the addition of new items and the removal of existing items always takes place at the same end. This end is commonly referred to as the “top”, and the opposite end is known as the “base”.\n",
    "\n",
    "Items that are closer to the base have been in the stack the longest. The most recently added item is always on the top of the stack and thus will be removed first. The stack provides an ordering based on length of time in the collection; the “age” of any given item increases as you move from top to base.\n",
    "\n",
    "There are many examples of stacks in everyday situations. Consider a stack of plates on a table, where it’s only possible to add or remove plates to or from the top. Or imagine a stack of books on a desk. The only book whose cover is visible is the one on top. To access the others, we must first remove the ones sitting on top of them.\n",
    "\n",
    "![A stack of books](figures/bookstack2.png)\n",
    "\n",
    "Here’s another stack containing a number of primitive Python data objects:\n",
    "\n",
    "![A stack of primitive Python objects](figures/primitive.png)\n",
    "\n",
    "One of the most useful features of stacks comes from the observation that the insertion order is the reverse of the removal order.\n",
    "\n",
    "Starting with a clean desk, place books on top of each other one at a time and consider what happens when you begin removing books: the order that they’re removed is exactly the reverse of the order that they were placed. This ability to reverse the order of items is what makes stacks so important.\n",
    "\n",
    "Below we show the Python object stack during insertion and removal. Note the objects’ order.\n",
    "\n",
    "![The reversal property of stacks](figures/simple-reversal.png)\n",
    "\n",
    "Considering this reversal property, perhaps you can think of stack examples that occur while using your computer. For example, every web browser has a “Back” button. As you navigate from page to page, the URLs of those pages are placed on a stack. The page you’re currently viewing is on the top, and the first page you looked at is at the base. Clicking on the Back button moves you in reverse order through the stack of pages.\n",
    "\n",
    "The Stack Abstract Data Type\n",
    "---\n",
    "\n",
    "An *abstract data type*, sometimes abbreviated *ADT*, is a logical description of how we view the data and the allowed operations without regard to how they’ll be implemented. This means that we’re only concerned with what the data represents and not with how it’ll be constructed. This level of abstraction *encapsulates* the data and hides implementation details from the user's view, a technique called *information hiding*.\n",
    "\n",
    "A *data structure* is an implementation of an abstract data type and requires a physical view of the data using some collection of primitive data types and other programming constructs.\n",
    "\n",
    "The separation of these two perspectives allows us to define complex data models for our problems without giving any details about how the model will actually be built. This provides an *implementation-independent* view of the data. Since there are usually many ways to implement an abstract data type, this independence allows the programmer to change implementation details without changing how the user interacts with it. Instead, the user can remain focused on the process of problem-solving.\n",
    "\n",
    "The stack abstract data type is an ordered collection of items where items are added to and removed from the top. The interface for a stack is:\n",
    "\n",
    "-   `Stack()` creates a new, empty stack\n",
    "-   `push(item)` adds the given item to the top of the stack and returns nothing\n",
    "-   `pop()` removes and returns the top item from the stack\n",
    "-   `peek()` returns the top item from the stack but doesn’t remove it (the stack isn’t modified)\n",
    "-   `is_empty()` returns a boolean representing whether the stack is empty\n",
    "-   `size()` returns the number of items on the stack as an integer\n",
    "\n",
    "For example, if `s` is a newly-created, empty stack, then the table below shows the results of a sequence of stack operations. The top item is the one farthest to the right in “Stack contents”.\n",
    "\n",
    "Stack operation | Stack contents | Return value\n",
    "--- | --- | ---\n",
    "`s.is_empty()` | `[]` | `True`\n",
    "`s.push(4)` | `[4]` |\n",
    "`s.push('dog')` | `[4, 'dog']` |\n",
    "`s.peek()` | `[4, 'dog']` | `'dog'`\n",
    "`s.push(True)` | `[4, 'dog', True]` |\n",
    "`s.size()` | `[4, 'dog', True]` | `3`\n",
    "`s.is_empty()` | `[4, 'dog', True]` | `False`\n",
    "`s.push(8.4)` | `[4, 'dog', True, 8.4]` |\n",
    "`s.pop()` | `[4, 'dog', True]` | `8.4`\n",
    "`s.pop()` | `[4, 'dog']` | `True`\n",
    "`s.size()` | `[4, 'dog']` | `2`"
   ]
  },
  {
   "cell_type": "markdown",
   "metadata": {},
   "source": [
    "### A Stack Implementation\n",
    "Now that we’ve clearly defined the stack as an abstract data type we’ll turn our attention to using Python to implement the stack. Recall that when we give an abstract data type a physical implementation we refer to the implementation as a data structure.\n",
    "\n",
    "You may be wondering if a Python `list` “is” a stack. It’s more precise to say that a Python `list` “may be used as a” stack. That is to say, the implementation of `list` in Python provides methods that allow us to achieve the behavior of the stack abstract data type, for instance `.append()` allows us to push items to our stack.\n",
    "\n",
    "In practice “use a Python list as a stack” is precisely what you’re likely to do, in other words you will define something like: `pancake_stack = []` then diligently use only the `append` and `pop` methods as well as `len(pancake_stack)` for the size, and `pancake_stack[-1]` to peek. Of course, a Python `list` permits much more than the behavior of a stack, notably accessing an item by index, and inserting and deleting items at any point by index.\n",
    "\n",
    "As such, we ought to communicate as clearly as possible our intention to use this (concrete) data structure of a `list` as an abstract data type stack. Sometimes we can achieve this simply by naming it a stack. Other times, we may want to use a class to abstract away the implementation of the stack as a list, and only provide the behaviors that we require of a stack.\n",
    "\n",
    "Such an abstraction is also illustrative of the distinction between concrete data structures and abstract data types, so we provide a possible implementation of a stack class here:"
   ]
  },
  {
   "cell_type": "code",
   "execution_count": 1,
   "metadata": {},
   "outputs": [],
   "source": [
    "class Stack:\n",
    "\n",
    "    def __init__(self):\n",
    "        self._items = []\n",
    "\n",
    "    def is_empty(self):\n",
    "        return not bool(self._items)\n",
    "\n",
    "    def push(self, item):\n",
    "        self._items.append(item)\n",
    "\n",
    "    def pop(self):\n",
    "        return self._items.pop()\n",
    "\n",
    "    def peek(self):\n",
    "        return self._items[-1]\n",
    "\n",
    "    def size(self):\n",
    "        return len(self._items)"
   ]
  },
  {
   "cell_type": "markdown",
   "metadata": {},
   "source": [
    "It’s important to note that we could’ve chosen to implement the stack using a list where the top is at the beginning instead of at the end. In this case, instead of using `pop` and `append` as above, instead we’d pop from and insert into position 0 in the list. Here’s a possible implementation of that approach:"
   ]
  },
  {
   "cell_type": "code",
   "execution_count": 2,
   "metadata": {},
   "outputs": [],
   "source": [
    "class Stack:\n",
    "\n",
    "    def __init__(self):\n",
    "        self._items = []\n",
    "\n",
    "    def is_empty(self):\n",
    "        return not bool(self._items)\n",
    "\n",
    "    def push(self, item):\n",
    "        self._items.insert(0, item)\n",
    "\n",
    "    def pop(self):\n",
    "        return self._items.pop(0)\n",
    "\n",
    "    def peek(self):\n",
    "        return self._items[0]\n",
    "\n",
    "    def size(self):\n",
    "        return len(self._items)"
   ]
  },
  {
   "cell_type": "markdown",
   "metadata": {},
   "source": [
    "This ability to change the physical implementation of an abstract data type while maintaining the logical characteristics is an example of abstraction at work. However, even though the stack will work either way, if we consider the performance of the two implementations, there’s definitely a difference. Recall that the `append` and `pop()` operations were both $$O(1)$$. This means that the first implementation will perform push and pop in constant time no matter how many items are on the stack. The performance of the second implementation suffers in that the `insert(0)` and `pop(0)` operations will both require $$O(n)$$ for a stack of size n. Clearly, even though the implementations are logically equivalent, they would have very different timings when performing benchmark testing.\n",
    "\n",
    "Going forward, we’ll simply use Python `list`s directly as stacks, being careful to only use the stack-like behavior of the `list`."
   ]
  },
  {
   "cell_type": "markdown",
   "metadata": {},
   "source": [
    "#### Balanced Parentheses\n",
    "\n",
    "We now turn our attention to using stacks to solve real computer science problems. You’ve no doubt written arithmetic expressions such as\n",
    "\n",
    "$$(5+6)\\times(7+8)/(4+3)$$\n",
    "\n",
    "where parentheses are used to order the performance of operations. You may also have some experience programming in a language such as Lisp with constructs like\n",
    "\n",
    "```lisp\n",
    "(defun square(n)\n",
    "     (* n n))\n",
    "```\n",
    "\n",
    "This defines a function called `square` that will return the square of its argument `n`. Lisp is notorious for using lots and lots of parentheses.\n",
    "\n",
    "In both of these examples, parentheses must appear in a balanced fashion. *Balanced parentheses* means that each opening symbol has a corresponding closing symbol and the pairs of parentheses are properly nested. Consider the following correctly balanced strings of parentheses:\n",
    "\n",
    "    (()()()())\n",
    "\n",
    "    (((())))\n",
    "\n",
    "    (()((())()))\n",
    "\n",
    "Compare those with the following, which aren’t balanced:\n",
    "\n",
    "    ((((((())\n",
    "\n",
    "    ()))\n",
    "\n",
    "    (()()(()\n",
    "\n",
    "The ability to differentiate between parentheses that are correctly balanced and those that are unbalanced is an important part of recognizing many programming language structures.\n",
    "\n",
    "The challenge then is to write an algorithm that will read a string of parentheses from left to right and decide whether the symbols are balanced. To solve this problem we need to make an important observation. As you process symbols from left to right, the most recent opening parenthesis must match the next closing symbol. Also, the first opening symbol processed may have to wait until the very last symbol for its match. Closing symbols match opening symbols in the reverse order of their appearance; they match from the inside out. This is a clue that stacks can be used to solve the problem.\n",
    "\n",
    "![Matching parentheses](figures/simple-parity-check.png)\n",
    "\n",
    "Once you agree that a stack is the appropriate data structure for keeping the parentheses, the statement of the algorithm is straightforward. Starting with an empty stack, process the parenthesis strings from left to right. If a symbol is an opening parenthesis, push it on the stack as a signal that a corresponding closing symbol needs to appear later. If, on the other hand, a symbol is a closing parenthesis, pop the stack. As long as it’s possible to pop the stack to match every closing symbol, the parentheses remain balanced. If at any time there’s no opening symbol on the stack to match a closing symbol, the string is not balanced properly. At the end of the string, when all symbols have been processed, the stack should be empty. The Python code to implement this algorithm may look like this:"
   ]
  },
  {
   "cell_type": "code",
   "execution_count": 3,
   "metadata": {},
   "outputs": [
    {
     "data": {
      "text/plain": [
       "False"
      ]
     },
     "execution_count": 3,
     "metadata": {},
     "output_type": "execute_result"
    }
   ],
   "source": [
    "OPENING = '('\n",
    "\n",
    "\n",
    "def is_balanced(parentheses):\n",
    "    stack = []\n",
    "    for paren in parentheses:\n",
    "        if paren == OPENING:\n",
    "            stack.append(paren)\n",
    "        else:\n",
    "            try:\n",
    "                stack.pop()\n",
    "            except IndexError:  # too many closing parens\n",
    "                return False\n",
    "    return len(stack) == 0  # false if too many opening parens\n",
    "\n",
    "\n",
    "\n",
    "alanced('((()))')  # => True\n",
    "is_balanced('(()')  # => False\n",
    "is_balanced('())')  # => False"
   ]
  },
  {
   "cell_type": "markdown",
   "metadata": {},
   "source": [
    "This function, `is_balanced`, returns a boolean result as to whether the string of parentheses is balanced. If the current symbol is `(`, then it’s pushed on the stack. If it is `)` we attempt to pop from the stack. If the stack is empty at that point, we know that the parenthesis string is imbalanced with too many closing parens. Finally, as long as the expression is balanced and the stack has been completely cleaned off, the string represents a correctly balanced sequence of parentheses.\n",
    "\n",
    "Balanced Symbols: A General Case\n",
    "---\n",
    "\n",
    "The balanced parentheses problem shown above is a specific case of a more general situation that arises in many programming languages. The general problem of balancing and nesting different kinds of opening and closing symbols occurs frequently. For example, in Python square brackets, `[` and `]`, are used for lists; curly braces, `{` and `}`, are used for dictionaries; and parentheses, `(` and `)`, are used for tuples and arithmetic expressions. It’s possible to mix symbols as long as each maintains its own open and close relationship. Strings of symbols such as\n",
    "\n",
    "    { { ( [ ] [ ] ) } ( ) }\n",
    "\n",
    "    [ [ { { ( ( ) ) } } ] ]\n",
    "\n",
    "    [ ] [ ] [ ] ( ) { }\n",
    "\n",
    "are properly balanced in that not only does each opening symbol have a corresponding closing symbol, but the types of symbols match as well.\n",
    "\n",
    "Compare those with the following strings that are not balanced:\n",
    "\n",
    "    ( [ ) ]\n",
    "\n",
    "    ( ( ( ) ] ) )\n",
    "\n",
    "    [ { ( ) ]\n",
    "\n",
    "The simple parentheses checker from the previous section can easily be extended to handle these new types of symbols. Recall that each opening symbol is simply pushed on the stack to wait for the matching closing symbol to appear later in the sequence. When a closing symbol does appear, the only difference is that we must check to be sure that it correctly matches the type of the opening symbol on top of the stack. If the two symbols don’t match, the string isn’t balanced. Once again, if the entire string is processed and nothing is left on the stack, the string is correctly balanced.\n",
    "\n",
    "The Python program to implement this is shown below. The only change is that we use a dictionary to ensure that symbols popped from the stack correctly match our expectations of pairing with the symbol being considered at the time."
   ]
  },
  {
   "cell_type": "code",
   "execution_count": 4,
   "metadata": {},
   "outputs": [
    {
     "data": {
      "text/plain": [
       "False"
      ]
     },
     "execution_count": 4,
     "metadata": {},
     "output_type": "execute_result"
    }
   ],
   "source": [
    "PAIRINGS = {\n",
    "    '(': ')',\n",
    "    '{': '}',\n",
    "    '[': ']'\n",
    "}\n",
    "\n",
    "\n",
    "def is_balanced(symbols):\n",
    "    stack = []\n",
    "    for s in symbols:\n",
    "        if s in PAIRINGS:\n",
    "            stack.append(s)\n",
    "            continue\n",
    "        try:\n",
    "            expected_opening_symbol = stack.pop()\n",
    "        except IndexError:  # too many closing symbols\n",
    "            return False\n",
    "        if s != PAIRINGS[expected_opening_symbol]:  # mismatch\n",
    "            return False\n",
    "    return len(stack) == 0  # false if too many opening symbols\n",
    "\n",
    "\n",
    "is_balanced('{{([][])}()}')  # => True\n",
    "is_balanced('{[])')  # => False\n",
    "is_balanced('((()))')  # => True\n",
    "is_balanced('(()')  # => False\n",
    "is_balanced('())')  # => False"
   ]
  },
  {
   "cell_type": "markdown",
   "metadata": {},
   "source": [
    "These two examples show that stacks are very important data structures for the processing of language constructs in computer science. Almost any notation you can think of has some type of nested symbol that must be matched in a balanced order. There are a number of other important uses for stacks in computer science. We’ll continue to explore them in the next sections.\n"
   ]
  },
  {
   "cell_type": "markdown",
   "metadata": {},
   "source": [
    "### Converting Number Bases\n",
    "\n",
    "In your study of computer science, you have probably been exposed in one way or another to the idea of a binary number. Binary representation is important in computer science since all values stored within a computer exist as a string of binary digits, a string of 0s and 1s. Without the ability to convert back and forth between common representations and binary numbers, we would need to interact with computers in very awkward ways.\n",
    "\n",
    "Integer values are common data items. They are used in computer programs and computation all the time. We learn about them in math class and of course represent them using the decimal number system, or base 10. The decimal number $$233_{10}$$ and its corresponding binary equivalent $$11101001_2$$ are interpreted respectively as\n",
    "\n",
    "$$2\\times10^{2} + 3\\times10^{1} + 3\\times10^{0}$$\n",
    "\n",
    "and\n",
    "\n",
    "$$1\\times2^{7} + 1\\times2^{6} + 1\\times2^{5} + 0\\times2^{4} + 1\\times2^{3} + 0\\times2^{2} + 0\\times2^{1} + 1\\times2^{0}$$\n",
    "\n",
    "But how can we easily convert integer values into binary numbers? The answer is an algorithm called “Divide by 2” that uses a stack to keep track of the digits for the binary result.\n",
    "\n",
    "The Divide by 2 algorithm assumes that we start with an integer greater than 0. A simple iteration then continually divides the decimal number by 2 and keeps track of the remainder. The first division by 2 gives information as to whether the value is even or odd. An even value will have a remainder of 0. It will have the digit 0 in the ones place. An odd value will have a remainder of 1 and will have the digit 1 in the ones place. We think about building our binary number as a sequence of digits; the first remainder we compute will actually be the last digit in the sequence. As shown below, we again see the reversal property that signals that a stack is likely to be the appropriate data structure for solving the problem.\n",
    "\n",
    "![Decimal-to-binary conversion](figures/decimal-to-binary.png)\n",
    "\n",
    "The Python code below implements the Divide by 2 algorithm. The function `convert_to_binary` takes an argument that is a decimal number and repeatedly divides it by 2. Line 7 uses the built-in modulo operator, %, to extract the remainder and line 8 then pushes it on the stack. After the division process reaches 0, a binary string is constructed in lines 11-13. Line 11 creates an empty string. The binary digits are popped from the stack one at a time and appended to the right-hand end of the string. The binary string is then returned.\n"
   ]
  },
  {
   "cell_type": "code",
   "execution_count": 5,
   "metadata": {},
   "outputs": [
    {
     "data": {
      "text/plain": [
       "'101010'"
      ]
     },
     "execution_count": 5,
     "metadata": {},
     "output_type": "execute_result"
    }
   ],
   "source": [
    "def convert_to_binary(decimal_number):\n",
    "    remainder_stack = []\n",
    "\n",
    "    while decimal_number > 0:\n",
    "        remainder = decimal_number % 2\n",
    "        remainder_stack.append(remainder)\n",
    "        decimal_number = decimal_number // 2\n",
    "\n",
    "    binary_digits = []\n",
    "    while remainder_stack:\n",
    "        # we could just reverse and join `remainder_stack` of course,\n",
    "        # as it is simply a Python list, but popping off into another\n",
    "        # list helps demonstrate that the only behavior we need from\n",
    "        # `remainder_stack` is stack-like\n",
    "        binary_digits.append(str(remainder_stack.pop()))\n",
    "\n",
    "    return ''.join(binary_digits)\n",
    "\n",
    "convert_to_binary(42)  # => '101010'"
   ]
  },
  {
   "cell_type": "markdown",
   "metadata": {},
   "source": [
    "The algorithm for binary conversion can easily be extended to perform the conversion for any base. In computer science it is common to use a number of different encodings. The most common of these are binary, octal (base 8), and hexadecimal (base 16).\n",
    "\n",
    "The decimal number $$233$$ and its corresponding octal and hexadecimal equivalents $$351_{8}$$ and $$E9_{16}$$ are interpreted as\n",
    "\n",
    "$$3\\times8^{2} + 5\\times8^{1} + 1\\times8^{0}$$\n",
    "\n",
    "and\n",
    "\n",
    "$$14\\times16^{1} + 9\\times16^{0}$$\n",
    "\n",
    "The function `convert_to_binary` can be modified to accept not only a decimal value but also a base for the intended conversion. The “Divide by 2” idea is simply replaced with a more general “Divide by base.” A new function called `convert_to_base`, shown below, takes a decimal number and any base between 2 and 16 as parameters. The remainders are still pushed onto the stack until the value being converted becomes 0. The same left-to-right string construction technique can be used with one slight change. Base 2 through base 10 numbers need a maximum of 10 digits, so the typical digit characters 0, 1, 2, 3, 4, 5, 6, 7, 8, and 9 work fine. The problem comes when we go beyond base 10. We can no longer simply use the remainders, as they are themselves represented as two- digit decimal numbers. Instead we need to create a set of digits that can be used to represent those remainders beyond 9."
   ]
  },
  {
   "cell_type": "code",
   "execution_count": 6,
   "metadata": {},
   "outputs": [
    {
     "data": {
      "text/plain": [
       "'19'"
      ]
     },
     "execution_count": 6,
     "metadata": {},
     "output_type": "execute_result"
    }
   ],
   "source": [
    "DIGITS = '0123456789abcdef'\n",
    "\n",
    "\n",
    "def convert_to_base(decimal_number, base):\n",
    "    remainder_stack = []\n",
    "\n",
    "    while decimal_number > 0:\n",
    "        remainder = decimal_number % base\n",
    "        remainder_stack.append(remainder)\n",
    "        decimal_number = decimal_number // base\n",
    "\n",
    "    new_digits = []\n",
    "    while remainder_stack:\n",
    "        new_digits.append(DIGITS[remainder_stack.pop()])\n",
    "\n",
    "    return ''.join(new_digits)\n",
    "\n",
    "\n",
    "convert_to_base(25, 2)  # => '11001'\n",
    "convert_to_base(25, 16)  # => '19'"
   ]
  },
  {
   "cell_type": "markdown",
   "metadata": {},
   "source": [
    "A solution to this problem is to extend the digit set to include some alphabet characters. For example, hexadecimal uses the ten decimal digits along with the first six alphabet characters for the 16 digits. To implement this, a digit string is created that stores the digits in their corresponding positions. 0 is at position 0, 1 is at position 1, A is at position 10, B is at position 11, and so on. When a remainder is removed from the stack, it can be used to index into the digit string and the correct resulting digit can be appended to the answer. For example, if the remainder 13 is removed from the stack, the digit D is appended to the resulting string.\n"
   ]
  },
  {
   "cell_type": "markdown",
   "metadata": {},
   "source": [
    "### Infix, Prefix and Postfix Expressions\n",
    "When you write an arithmetic expression such as `B * C`, the form of the expression provides you with information so that you can interpret it correctly. In this case we know that the variable `B` is being multiplied by the variable `C` since the multiplication operator `*` appears between them in the expression. This type of notation is referred to as *infix* since the operator is *in between* the two operands that it’s working on.\n",
    "\n",
    "Consider another infix example, `A + B * C`. The operators + and \\* still appear between the operands, but there’s a problem. Which operands do they work on? Does the `+` work on `A` and `B` or does the `*` take `B` and `C`? The expression seems ambiguous.\n",
    "\n",
    "In fact, you’ve been reading and writing these types of expressions for a long time and they don’t cause you any problem. The reason for this is that you know something about the operators `+` and `*`. Each operator has a *precedence* level. Operators of higher precedence are used before operators of lower precedence. The only thing that can change that order is the presence of parentheses. The precedence order for arithmetic operators places multiplication and division above addition and subtraction. If two operators of equal precedence appear, then a left-to-right ordering or associativity is used.\n",
    "\n",
    "Let’s interpret the troublesome expression `A + B * C` using operator precedence. `B` and `C` are multiplied first, and `A` is then added to that result. `(A + B) * C` would force the addition of `A` and `B` to be done first before the multiplication. In expression `A + B + C`, by precedence (via associativity), the leftmost `+` would be done first.\n",
    "\n",
    "Although all this may be obvious to you, remember that computers need to know exactly what operators to perform and in what order. One way to write an expression that guarantees there will be no confusion with respect to the order of operations is to create what’s called a *fully parenthesized* expression. This type of expression uses one pair of parentheses for each operator. The parentheses dictate the order of operations; there is no ambiguity. There’s also no need to remember any precedence rules.\n",
    "\n",
    "The expression `A + B * C + D` can be rewritten as `((A + (B * C)) + D)` to show that the multiplication happens first, followed by the leftmost addition. `A + B + C + D` can be written as `(((A + B) + C) + D)` since the addition operations associate from left to right.\n",
    "\n",
    "There are two other very important expression formats that may not seem obvious to you at first. Consider the infix expression `A + B`. What would happen if we moved the operator before the two operands? The resulting expression would be `+ A B`. Likewise, we could move the operator to the end. We would get `A B +`. These look a bit strange.\n",
    "\n",
    "These changes to the position of the operator with respect to the operands create two new expression formats, *prefix* and *postfix*. Prefix expression notation requires that all operators precede the two operands that they work on. Postfix, on the other hand, requires that its operators come after the corresponding operands. A few more examples should help to make this a bit clearer:\n",
    "\n",
    "Infix expression  |  Prefix expression  | Postfix expression\n",
    "--- | --- | ---\n",
    "`A + B` | `+ A B` | `A B +`\n",
    "`A + B * C` | `+ A * B C` | `A B C * +`\n",
    "\n",
    "`A + B * C` would be written as `+ A * B C` in prefix. The multiplication operator comes immediately before the operands `B` and `C`, denoting that `*` has precedence over `+`. The addition operator then appears before the `A` and the result of the multiplication.\n",
    "\n",
    "In postfix, the expression would be `A B C * +`. Again, the order of operations is preserved since the `*` appears immediately after the `B` and the `C`, denoting that `*` has precedence, with `+` coming after. Although the operators moved and now appear either before or after their respective operands, the order of the operands stayed exactly the same relative to one another.\n",
    "\n",
    "Now consider the infix expression `(A + B) * C`. Recall that in this case, infix requires the parentheses to force the performance of the addition before the multiplication. However, when `A + B` was written in prefix, the addition operator was simply moved before the operands, `+ A B`. The result of this operation becomes the first operand for the multiplication. The multiplication operator is moved in front of the entire expression, giving us `* + A B C`. Likewise, in postfix `A B +` forces the addition to happen first. The multiplication can be done to that result and the remaining operand `C`. The proper postfix expression is then `A B + C *`.\n",
    "\n",
    "Consider these three expressions again. Something very important has happened. Where did the parentheses go? Why don’t we need them in prefix and postfix? The answer is that the operators are no longer ambiguous with respect to the operands that they work on. Only infix notation requires the additional symbols. The order of operations within prefix and postfix expressions is completely determined by the position of the operator and nothing else. In many ways, this makes infix the least desirable notation to use.\n",
    "\n",
    "Infix expression  |  Prefix expression  | Postfix expression\n",
    "--- | --- | ---\n",
    "`(A + B) * C` | `* + A B C`  | `A B + C *`\n",
    "\n",
    "The table below shows some additional examples of infix expressions and the equivalent prefix and postfix expressions. Be sure that you understand how they’re equivalent in terms of the order of the operations being performed.\n",
    "\n",
    "Infix expression  |  Prefix expression  | Postfix expression\n",
    "--- | --- | ---\n",
    "`A + B * C + D`  | `+ + A * B C D`  | `A B C * + D +`\n",
    "`(A + B) * (C + D)` |  `* + A B + C D`  | `A B + C D + *`\n",
    "`A * B + C * D` |  `+ * A B * C D`  | `A B * C D * +`\n",
    "`A + B + C + D`  | `+ + + A B C D` |  `A B + C + D +`\n",
    "\n",
    "Conversion of Infix Expressions to Prefix and Postfix\n",
    "-----------------------------------------------------\n",
    "\n",
    "So far, we’ve used ad hoc methods to convert between infix expressions\n",
    "and the equivalent prefix and postfix expression notations. As you might\n",
    "expect, there are algorithmic ways to perform the conversion that allow\n",
    "any expression of any complexity to be correctly transformed.\n",
    "\n",
    "The first technique that we’ll consider uses the notion of a fully parenthesized expression that was discussed earlier. Recall that `A + B * C` can be written as `(A + (B * C))` to show explicitly that the multiplication has precedence over the addition. On closer observation, however, you can see that each parenthesis pair also denotes the beginning and the end of an operand pair with the corresponding operator in the middle.\n",
    "\n",
    "Look at the right parenthesis in the subexpression `(B * C)` above. If we were to move the multiplication symbol to that position and remove the matching left parenthesis, giving us `B C *`, we would in effect have converted the subexpression to postfix notation. If the addition operator were also moved to its corresponding right parenthesis position and the matching left parenthesis were removed, the complete postfix expression would result.\n",
    "\n",
    "![Moving operators to the right for postfix notation](figures/move-right.png)\n",
    "\n",
    "If we do the same thing but instead of moving the symbol to the position of the right parenthesis, we move it to the left, we get prefix notation (below). The position of the parenthesis pair is actually a clue to the final position of the enclosed operator.\n",
    "\n",
    "![Moving operators to the left for prefix notation](figures/move-left.png)\n",
    "\n",
    "So in order to convert an expression, no matter how complex, to either prefix or postfix notation, fully parenthesize the expression using the order of operations. Then move the enclosed operator to the position of either the left or the right parenthesis depending on whether you want prefix or postfix notation.\n",
    "\n",
    "Here’s a more complex expression: `(A + B) * C - (D - E) * (F + G)`:\n",
    "\n",
    "![Converting a complex expression to prefix and postfix notations](figures/complex-move.png)\n",
    "\n",
    "General Infix-to-Postfix Conversion\n",
    "-----------------------------------\n",
    "\n",
    "We need to develop an algorithm to convert any infix expression to a postfix expression. To do this we’ll look closer at the conversion process.\n",
    "\n",
    "Consider once again the expression `A + B * C`. As shown above, `A B C * +` is the postfix equivalent. We’ve already noted that the operands `A`, `B`, and `C` stay in their relative positions. It is only the operators that change position. Let’s look again at the operators in the infix expression. The first operator that appears from left to right is `+`. However, in the postfix expression, `+` is at the end since the next operator, `*`, has precedence over addition. The order of the operators in the original expression is reversed in the resulting postfix expression.\n",
    "\n",
    "As we process the expression, the operators have to be saved somewhere since their corresponding right operands are not seen yet. Also, the order of these saved operators may need to be reversed due to their precedence. This is the case with the addition and the multiplication in this example. Since the addition operator comes before the multiplication operator and has lower precedence, it needs to appear after the multiplication operator is used. Because of this reversal of order, it makes sense to consider using a stack to keep the operators until they’re needed.\n",
    "\n",
    "What about `(A + B) * C`? Recall that `A B + C *` is the postfix equivalent. Again, processing this infix expression from left to right, we see `+` first. In this case, when we see `*`, `+` has already been placed in the result expression because it has precedence over `*` by virtue of the parentheses. We can now start to see how the conversion algorithm will work. When we see a left parenthesis, we’ll save it to denote that another operator of high precedence will be coming. That operator will need to wait until the corresponding right parenthesis appears to denote its position (recall the fully parenthesized technique). When that right parenthesis does appear, the operator can be popped from the stack.\n",
    "\n",
    "As we scan the infix expression from left to right, we’ll use a stack to keep the operators. This will provide the reversal that we noted in the first example. The top of the stack will always be the most recently saved operator. Whenever we read a new operator, we’ll need to consider how that operator compares in precedence with the operators, if any, already on the stack.\n",
    "\n",
    "Assume the infix expression is a string of tokens delimited by spaces. The operator tokens are `*`, `/`, `+`, and `-`, along with the left and right parentheses, `(` and `)`. The operand tokens are the single-character identifiers `A`, `B`, `C`, and so on. The following steps will produce a string of tokens in postfix order.\n",
    "\n",
    "1.  Create an empty stack called `operation_stack` for keeping operators. Create an empty list for output.\n",
    "2.  Convert the input infix string to a list by using the string method `split`.\n",
    "3.  Scan the token list from left to right.\n",
    "    -   If the token is an operand, append it to the end of the output list.\n",
    "    -   If the token is a left parenthesis, push it on the `operation_stack`.\n",
    "    -   If the token is a right parenthesis, pop the `operation_stack` until the corresponding left parenthesis is removed. Append each operator to the end of the output list.\n",
    "    -   If the token is an operator, `*`, `/`, `+`, or `-`, push it on the `operation_stack`. However, first remove any operators already on the `operation_stack` that have higher or equal precedence and append them to the output list.\n",
    "\n",
    "4.  When the input expression has been completely processed, check the `operation_stack`. Any operators still on the stack can be removed and appended to the end of the output list.\n",
    "\n",
    "Below we show the conversion algorithm working on the expression `A * B + C * D`. Note that the first `*` operator is removed upon seeing the `+` operator. Also, `+` stays on the stack when the second `*` occurs, since multiplication has precedence over addition. At the end of the infix expression the stack is popped twice, removing both operators and placing + as the last operator in the postfix expression.\n",
    "\n",
    "![Converting A * B + C * D to postfix notation](figures/into-postfix.png)\n",
    "\n",
    "In order to code the algorithm in Python, we’ll use a dictionary called `precedence` to hold the precedence values for the operators. This dictionary will map each operator to an integer that can be compared against the precedence levels of other operators (we have arbitrarily used the integers 3, 2, and 1). The left parenthesis will receive the lowest value possible. This way any operator that is compared against it will have higher precedence and will be placed on top of it."
   ]
  },
  {
   "cell_type": "code",
   "execution_count": 7,
   "metadata": {},
   "outputs": [
    {
     "data": {
      "text/plain": [
       "'A B C * +'"
      ]
     },
     "execution_count": 7,
     "metadata": {},
     "output_type": "execute_result"
    }
   ],
   "source": [
    "PRECEDENCE = {\n",
    "    '*': 3,\n",
    "    '/': 3,\n",
    "    '+': 2,\n",
    "    '-': 2,\n",
    "    '(': 1\n",
    "}\n",
    "\n",
    "CHARACTERS = 'ABCDEFGHIJKLMNOPQRSTUVWXYZ'\n",
    "DIGITS = '0123456789'\n",
    "LEFT_PAREN = '('\n",
    "RIGHT_PAREN = ')'\n",
    "\n",
    "\n",
    "def infix_to_postfix(infix_expression):\n",
    "    operation_stack = []\n",
    "    postfix = []\n",
    "    tokens = infix_expression.split()\n",
    "\n",
    "    for token in tokens:\n",
    "        if token in CHARACTERS or token in DIGITS:\n",
    "            postfix.append(token)\n",
    "        elif token == LEFT_PAREN:\n",
    "            operation_stack.append(token)\n",
    "        elif token == RIGHT_PAREN:\n",
    "            top_token = operation_stack.pop()\n",
    "            while top_token != LEFT_PAREN:\n",
    "                postfix.append(top_token)\n",
    "                top_token = operation_stack.pop()\n",
    "        else:\n",
    "            while operation_stack and \\\n",
    "                    (PRECEDENCE[operation_stack[-1]] >= PRECEDENCE[token]):\n",
    "                postfix.append(operation_stack.pop())\n",
    "            operation_stack.append(token)\n",
    "\n",
    "    while operation_stack:\n",
    "        postfix.append(operation_stack.pop())\n",
    "    return ' '.join(postfix)\n",
    "\n",
    "infix_to_postfix('A * B + C * D')  # => 'A B * C D * +'\n",
    "infix_to_postfix('( A + B ) * C - ( D - E ) * ( F + G )')\n",
    "# => 'A B + C * D E - F G + * -'\n",
    "infix_to_postfix('( A + B ) * ( C + D )')  # => 'A B + C D + *'\n",
    "infix_to_postfix('( A + B ) * C')  # => 'A B + C *'\n",
    "infix_to_postfix('A + B * C')  # => 'A B C * +'"
   ]
  },
  {
   "cell_type": "markdown",
   "metadata": {},
   "source": [
    "Postfix Evaluation\n",
    "------------------\n",
    "\n",
    "As a final stack example, we’ll consider the evaluation of an expression that’s already in postfix notation. In this case, a stack is again the data structure of choice. However, as you scan the postfix expression, it is the operands that must wait, not the operators as in the conversion algorithm above. Another way to think about the solution is that whenever an operator is seen on the input, the two most recent operands will be used in the evaluation.\n",
    "\n",
    "To see this in more detail, consider the postfix expression `4 5 6 * +`. As you scan the expression from left to right, you first encounter the operands 4 and 5. At this point, you’re still unsure what to do with them until you see the next symbol. Placing each on the stack ensures that they’re available if an operator comes next.\n",
    "\n",
    "In this case, the next symbol is another operand. So, as before, push it and check the next symbol. Now we see an operator, `*`. This means that the two most recent operands need to be used in a multiplication operation. By popping the stack twice, we can get the proper operands and then perform the multiplication (in this case getting the result 30).\n",
    "\n",
    "We can now handle this result by placing it back on the stack so that it can be used as an operand for the later operators in the expression. When the final operator is processed, there will be only one value left on the stack. Pop and return it as the result of the expression. Below we show the stack contents as this entire example expression is being processed.\n",
    "\n",
    "![Stack contents during evaluation](figures/evaluate-postfix-1.png)\n",
    "\n",
    "Below we show a slightly more complex example, `7 8 + 3 2 + /`. There are two things to note in this example. First, the stack size grows, shrinks, and then grows again as the subexpressions are evaluated. Second, the division operation needs to be handled carefully. Recall that the operands in the postfix expression are in their original order since postfix changes only the placement of operators. When the operands for the division are popped from the stack, they’re reversed. Since division is *not* a commutative operator, in other words $$15/5$$ is not the same as $$5/15$$, we must be sure that the order of the operands is not switched.\n",
    "\n",
    "![A more complex example of evaluation](figures/evaluate-postfix-2.png)\n",
    "\n",
    "Assume the postfix expression is a string of tokens delimited by spaces. The operators are `*`, `/`, `+`, and `-` and the operands are assumed to be single-digit integer values. The output will be an integer result.\n",
    "\n",
    "1.  Create an empty stack called `operand_stack`.\n",
    "2.  Convert the string to a list by using the string method `split`.\n",
    "3.  Scan the token list from left to right.\n",
    "    -   If the token is an operand, convert it from a string to an integer and push the value onto the `operand_stack`.\n",
    "    -   If the token is an operator, `*`, `/`, `+`, or `-`, it will need two operands. Pop the `operand_stack` twice. The first pop is the second operand and the second pop is the first operand. Perform the arithmetic operation. Push the result back on the `operand_stack`.\n",
    "\n",
    "4.  When the input expression has been completely processed, the result is on the stack. Pop the `operand_stack` and return the value.\n",
    "\n",
    "The complete function for the evaluation of postfix expressions is shown below. To assist with the arithmetic, we importer the handy `operator` module from the Python standard library to specify functions that will take two arguments and return the result of the proper arithmetic operation."
   ]
  },
  {
   "cell_type": "code",
   "execution_count": 2,
   "metadata": {},
   "outputs": [
    {
     "data": {
      "text/plain": [
       "3.0"
      ]
     },
     "execution_count": 2,
     "metadata": {},
     "output_type": "execute_result"
    }
   ],
   "source": [
    "import operator\n",
    "\n",
    "OPERATION = {\n",
    "    '*': operator.mul,\n",
    "    '/': operator.truediv,\n",
    "    '-': operator.sub,\n",
    "    '+': operator.add\n",
    "}\n",
    "\n",
    "DIGITS = set('0123456789')\n",
    "\n",
    "\n",
    "def evaluate_postfix(postfix_expression):\n",
    "    operand_stack = []\n",
    "\n",
    "    for token in postfix_expression.split():\n",
    "        if token in DIGITS:\n",
    "            operand_stack.append(int(token))\n",
    "        else:\n",
    "            b = operand_stack.pop()\n",
    "            a = operand_stack.pop()\n",
    "            result = OPERATION[token](a, b)\n",
    "            operand_stack.append(result)\n",
    "    return operand_stack.pop()\n",
    "\n",
    "evaluate_postfix('7 8 + 3 2 + /')  # => 3.0"
   ]
  },
  {
   "cell_type": "markdown",
   "metadata": {},
   "source": [
    "It’s important to note that in both the postfix conversion and the postfix evaluation programs we assumed that there were no errors in the input expression. Using these programs as a starting point, you can easily see how error detection and reporting can be included. We leave this as an exercise."
   ]
  },
  {
   "cell_type": "code",
   "execution_count": null,
   "metadata": {},
   "outputs": [],
   "source": []
  }
 ],
 "metadata": {
  "kernelspec": {
   "display_name": "Python 3",
   "language": "python",
   "name": "python3"
  },
  "language_info": {
   "codemirror_mode": {
    "name": "ipython",
    "version": 3
   },
   "file_extension": ".py",
   "mimetype": "text/x-python",
   "name": "python",
   "nbconvert_exporter": "python",
   "pygments_lexer": "ipython3",
   "version": "3.7.5rc1"
  }
 },
 "nbformat": 4,
 "nbformat_minor": 2
}
