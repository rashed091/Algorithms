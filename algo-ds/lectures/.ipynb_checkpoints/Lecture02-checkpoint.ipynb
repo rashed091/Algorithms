{
 "cells": [
  {
   "cell_type": "markdown",
   "metadata": {},
   "source": [
    "# Recursion\n",
    "\n",
    "## The greatest common divisor problem\n",
    "\n",
    "The [greatest common divisor (GCD)](https://en.wikipedia.org/wiki/Greatest_common_divisor) \n",
    "of two integers is the largest positive integer that divides them cleanly.\n",
    "\n",
    "For example, given $p = 32$ and $q = 24$, their GCD is 8, even though 2 and\n",
    "4 are also dividing them cleanly\n",
    "\n",
    "**Q:** How can we compute it?\n",
    "\n",
    ". . .\n",
    "\n",
    "One typical way of computing the GCD is Euclid's algorithm:\n",
    "\n",
    "$$\n",
    "  gcd(p, q) =\n",
    "  \\begin{cases}\n",
    "    p & \\text{if } q = 0 \\\\\n",
    "    gcd(q, p \\bmod q), & \\text{otherwise}\n",
    "  \\end{cases}\n",
    "$$\n",
    "\n",
    "## Converting to code\n",
    "\n",
    "$$\n",
    "  gcd(p, q) =\n",
    "  \\begin{cases}\n",
    "    p & \\text{if } q = 0 \\\\\n",
    "    gcd(q, p \\bmod q), & \\text{otherwise}\n",
    "  \\end{cases}\n",
    "$$\n",
    "\n",
    "Let's try to convert GCD into code:"
   ]
  },
  {
   "cell_type": "code",
   "execution_count": 3,
   "metadata": {},
   "outputs": [],
   "source": [
    "def gcd(p, q):\n",
    "  if q == 0:\n",
    "    return p\n",
    "  return gcd(q, p % q)"
   ]
  },
  {
   "cell_type": "code",
   "execution_count": 5,
   "metadata": {},
   "outputs": [
    {
     "name": "stdout",
     "output_type": "stream",
     "text": [
      "8\n"
     ]
    }
   ],
   "source": [
    "print(gcd(32, 24))"
   ]
  },
  {
   "cell_type": "markdown",
   "metadata": {},
   "source": [
    "## How is `gcd` evaluated? {- }\n",
    "\n",
    "We modify `gcd` to print its arguments "
   ]
  },
  {
   "cell_type": "code",
   "execution_count": 7,
   "metadata": {},
   "outputs": [
    {
     "name": "stdout",
     "output_type": "stream",
     "text": [
      "p=10021, q=1342, mod=627\n",
      "p=1342, q=627, mod=88\n",
      "p=627, q=88, mod=11\n",
      "p=88, q=11, mod=0\n",
      "11\n"
     ]
    }
   ],
   "source": [
    "def gcd(p, q):\n",
    "  if q > 0:\n",
    "    mod = p % q\n",
    "    print(\"p=%d, q=%d, mod=%d\" % (p, q, mod))\n",
    "  if q == 0:\n",
    "    return p\n",
    "  return gcd(q, mod)\n",
    "  \n",
    "print(gcd(10021, 1342))"
   ]
  },
  {
   "cell_type": "markdown",
   "metadata": {},
   "source": [
    "## Recursion \n",
    "\n",
    "**Recursion** is a problem solving method where the solution to a problem \n",
    "depends on solutions to smaller instances of the same problem.\n",
    "\n",
    "In practice, recursive functions follow this pattern:\n",
    "\n",
    "```python\n",
    "# Pseudocode\n",
    "def recursive(args):\n",
    "  if simple_case is True:\n",
    "    return simple_case_result\n",
    "  else:\n",
    "    recursive(simplified(args))\n",
    "```\n",
    "\n",
    "Recursion is everywhere in CS: \n",
    "\n",
    "* Algorithms\n",
    "* Data types:  `List = EmptyList | Cons Item List`\n",
    "* Acronyms: **GNU** means GNU is Not Unix\n",
    "\n",
    "## Types of recursion\n",
    "\n",
    "* **Linear** recursion: Only one recursive call in function body, e.g. `gcd`\n",
    "* **Binary** recursion: Two recursive calls\n",
    "* **Multiple** recursion: Multiple recursive calls\n",
    "\n",
    "Binary recursion is typical with *divide-and-conquer* algorithms: the \n",
    "problem is split in two equally sized sub-parts and the solution is\n",
    "recursively computed by aggregating the results of the sub-parts.\n",
    "\n",
    "## Divide-and-conquer matrix addition\n",
    "\n",
    "Suppose we have an array\n",
    "\n",
    "```python\n",
    "a = [1,2,3,4,5,6,7,8]\n",
    "```\n",
    "\n",
    "how can we compute the sum of its elements recursively?\n"
   ]
  },
  {
   "cell_type": "code",
   "execution_count": 8,
   "metadata": {},
   "outputs": [],
   "source": [
    "def sum_dc(a):\n",
    "    if len(a) == 1:\n",
    "        return a[0]\n",
    "    if len(a) == 2:\n",
    "        return a[0] + a[1]\n",
    "\n",
    "    mid = len(a) / 2\n",
    "    left = a[0:mid]\n",
    "    right = a[mid:len(a)]\n",
    "    return sum_dc(left) + sum_dc(right)"
   ]
  },
  {
   "cell_type": "markdown",
   "metadata": {},
   "source": [
    "Of course, this only works because `+` (addition) is commutitative.\n",
    "It wouldn't work with, e.g. '/'\n",
    "\n",
    "## How is `sum_dc` evaluated? {- }\n",
    "\n",
    "![Recursive divide and conquer array addition](../figures/recursive-array-addition.png)\n",
    "\n",
    "This is an example of a recursive evaluation tree\n",
    "\n",
    "## Recursion and the stack\n",
    "\n",
    "**Q:** What does the following code do?"
   ]
  },
  {
   "cell_type": "code",
   "execution_count": 10,
   "metadata": {},
   "outputs": [
    {
     "data": {
      "text/plain": [
       "'Done'"
      ]
     },
     "execution_count": 10,
     "metadata": {},
     "output_type": "execute_result"
    }
   ],
   "source": [
    "def foo(i):\n",
    "    if i == 1000:\n",
    "        return \"Done\"\n",
    "    return foo(i + 1)\n",
    "\n",
    "foo(0)"
   ]
  },
  {
   "cell_type": "markdown",
   "metadata": {},
   "source": [
    "One typical problem related with recursive algorithms is stack overflow errors!\n",
    "\n",
    "## What is a call stack? {- }\n",
    "\n",
    "For the following program\n",
    "```python\n",
    "def DrawSquare(p, length):\n",
    "  DrawLine(p.x, p.y, p.x + length, p.y)\n",
    "```\n",
    "\n",
    "When `DrawLine` is invoked, the computer must know where it will return\n",
    "when done\n",
    "\n",
    "\n",
    "![A call stack](../figures/callstack.png)\n",
    "\n",
    "\n",
    "\n",
    "* **Locals** are variables allocated while a function is running\n",
    "* **Return address** is where in `DrawSquare` should `DrawLine` return\n",
    "* **Parameters** are the arguments \n",
    "\n",
    "\n",
    "## Tail recursion\n",
    "\n",
    "If the recursive call is the last statement in a function, then we call this\n",
    "a _tail recursion_.  \n",
    "\n",
    "To avoid the problem of stack overflows, some languages (not Python) implement \n",
    "an optimization called _tail call elimination_. This would convert the\n",
    "following code \n",
    "\n",
    "```python\n",
    "def foo(i):\n",
    "  if i == 1000:\n",
    "    return \"Done\"\n",
    "  return foo(i + 1)\n",
    "```\n",
    "\n",
    "into\n",
    "\n",
    "```python\n",
    "def foo_opt(i):\n",
    "  while i < 1000:\n",
    "    pass\n",
    "  return \"Done\"\n",
    "```\n",
    "\n",
    "## Fun with recursion: Towers of Hannoi\n",
    "\n",
    "![Towers of Hanoi](../figures/towers_of_hanoi.jpeg)\n",
    "\n",
    "Move all disks to the right most peg, observing the following rules:\n",
    "\n",
    "1. Only one disk can be moved at a time.\n",
    "2. The upper disk from one of the stacks is placed on top of another stack\n",
    "3. No disk may be placed on top of a smaller disk\n",
    "\n",
    "## Solution in Python {- }"
   ]
  },
  {
   "cell_type": "code",
   "execution_count": 12,
   "metadata": {},
   "outputs": [],
   "source": [
    "def hanoi(n, source, tmp, target):\n",
    "    if n == 0:\n",
    "        return\n",
    "    # move tower of size n - 1 to helper\n",
    "    hanoi(n - 1, source, target, tmp)\n",
    "    print (\"Move disk %d from %s to %s\" %(n, source, target))\n",
    "    # move tower of size n-1 from helper to target\n",
    "    hanoi(n - 1, tmp, source, target)"
   ]
  },
  {
   "cell_type": "markdown",
   "metadata": {},
   "source": [
    "Here is the intuition:\n",
    "\n",
    "* Move a tower of height-1 to an temp pole, using the final pole.\n",
    "* Move the remaining disk to the final pole.\n",
    "* Move the tower of height-1 from the intermediate pole to the final pole using the original pole.\n",
    "\n",
    "For a visual solution, have a look [here](http://towersofhanoi.info/)"
   ]
  },
  {
   "cell_type": "code",
   "execution_count": null,
   "metadata": {},
   "outputs": [],
   "source": []
  }
 ],
 "metadata": {
  "kernelspec": {
   "display_name": "Python 3",
   "language": "python",
   "name": "python3"
  },
  "language_info": {
   "codemirror_mode": {
    "name": "ipython",
    "version": 3
   },
   "file_extension": ".py",
   "mimetype": "text/x-python",
   "name": "python",
   "nbconvert_exporter": "python",
   "pygments_lexer": "ipython3",
   "version": "3.7.3"
  }
 },
 "nbformat": 4,
 "nbformat_minor": 2
}
