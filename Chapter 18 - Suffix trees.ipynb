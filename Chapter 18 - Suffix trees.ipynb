{
 "cells": [
  {
   "cell_type": "markdown",
   "metadata": {},
   "source": [
    "<p>Pre-requisite : Trie</p>\n",
    "<p>Suffix tree is a compressed trie of all the suffixes of a given string. Suffix trees help in solving a lot of string related problems like pattern matching, finding distinct substrings in a given string, finding longest palindrome etc. In this tutorial following points will be covered:</p>\n",
    "<ul>\n",
    "<li>Compressed Trie</li>\n",
    "<li>Suffix Tree Construction (Brute Force)</li>\n",
    "<li>Brief description of Ukkonen's Algorithm</li>\n",
    "</ul>\n",
    "<p><br />Before going to suffix tree, let's first try to understand what a compressed trie  is. <br />\n",
    "Consider the following set of strings:  {$ \"banana\", \"nabd\", \"bcdef\", \"bcfeg\", \"aaaaaa\", \"aaabaa\"$ }<br /> \n",
    "A standard trie for the above set of strings will look like:<br />\n",
    "<img alt=\"enter image description here\" src=\"https://he-s3.s3.amazonaws.com/media/uploads/5a87821.png\" /><br />\n",
    "And a compressed trie for the given set of strings will look like:<br />\n",
    "<img alt=\"enter image description here\" src=\"https://he-s3.s3.amazonaws.com/media/uploads/639747e.png\" /><br />\n",
    "As it might be clear from the images show above, in a compressed trie, edges that direct to a node having single child are combined together to form a single edge and  their edge labels are concatenated. So this means that each internal node in a compressed trie has atleast two children. Also it has atmost $N$ leaves, where $N$ is the number of strings inserted in the compressed trie. Now both the facts: Each internal node having atleast two children, and that there are $N$ leaves, implies that there are atmost $2N-1$ nodes in the trie. So the space complexity of a compressed trie is $O(N)$ as compared to the $O(N^2)$  of a normal trie. <br />\n",
    "So that is one reason why to use compressed tries over normal tries. </p>\n",
    "<p>Before going to construction of suffix trees, there is one more thing that should be understood, Implicit Suffix Tree. In \n",
    "Implicit suffix trees, there are atmost $N$ leaves, while in normal one there should be exactly $N$ leaves. The reason for atmost $N$ leaves is one suffix being prefix of another suffix. Following example will make it clear.\n",
    "Consider the string $\"banana\"$<br />\n",
    "Implicit Suffix Tree for the above string is shown in image below:<br />\n",
    "<img alt=\"enter image description here\" src=\"https://he-s3.s3.amazonaws.com/media/uploads/71cea69.png\" /><br />\n",
    "To avoid getting an Implicit Suffix Tree we append a special character that is not equal to any other character of the string. Suppose we append $ to the given string then, so the new string is $\"banana$\"$. Now its suffix tree will be<br />\n",
    "<img alt=\"enter image description here\" src=\"https://he-s3.s3.amazonaws.com/media/uploads/a55f8db.png\" /><br />\n",
    "Now let's go to the construction of the suffix trees.<br />\n",
    "Suffix tree as mentioned previously is a compressed trie of all the suffixes of a given string, so the brute force approach will be to consider all the suffixes of the given string as separate strings and insert them in the trie one by one. But time complexity of the brute force approach is $O(N^2)$, and that is of no use for large values of $N$. </p>\n",
    "<p>The pseudo code for the brute force approach is given below:</p>"
   ]
  },
  {
   "cell_type": "code",
   "execution_count": 1,
   "metadata": {},
   "outputs": [],
   "source": [
    "class SuffixTree(object):\n",
    "    \n",
    "    class Node(object):\n",
    "        def __init__(self, lab):\n",
    "            self.lab = lab # label on path leading to this node\n",
    "            self.out = {}  # outgoing edges; maps characters to nodes\n",
    "    \n",
    "    def __init__(self, s):\n",
    "        \"\"\" Make suffix tree, without suffix links, from s in quadratic time\n",
    "            and linear space \"\"\"\n",
    "        s += '$'\n",
    "        self.root = self.Node(None)\n",
    "        self.root.out[s[0]] = self.Node(s) # trie for just longest suf\n",
    "        # add the rest of the suffixes, from longest to shortest\n",
    "        for i in range(1, len(s)):\n",
    "            # start at root; we’ll walk down as far as we can go\n",
    "            cur = self.root\n",
    "            j = i\n",
    "            while j < len(s):\n",
    "                if s[j] in cur.out:\n",
    "                    child = cur.out[s[j]]\n",
    "                    lab = child.lab\n",
    "                    # Walk along edge until we exhaust edge label or\n",
    "                    # until we mismatch\n",
    "                    k = j+1 \n",
    "                    while k-j < len(lab) and s[k] == lab[k-j]:\n",
    "                        k += 1\n",
    "                    if k-j == len(lab):\n",
    "                        cur = child # we exhausted the edge\n",
    "                        j = k\n",
    "                    else:\n",
    "                        # we fell off in middle of edge\n",
    "                        cExist, cNew = lab[k-j], s[k]\n",
    "                        # create “mid”: new node bisecting edge\n",
    "                        mid = self.Node(lab[:k-j])\n",
    "                        mid.out[cNew] = self.Node(s[k:])\n",
    "                        # original child becomes mid’s child\n",
    "                        mid.out[cExist] = child\n",
    "                        # original child’s label is curtailed\n",
    "                        child.lab = lab[k-j:]\n",
    "                        # mid becomes new child of original parent\n",
    "                        cur.out[s[j]] = mid\n",
    "                else:\n",
    "                    # Fell off tree at a node: make new edge hanging off it\n",
    "                    cur.out[s[j]] = self.Node(s[j:])\n",
    "    \n",
    "    def followPath(self, s):\n",
    "        \"\"\" Follow path given by s.  If we fall off tree, return None.  If we\n",
    "            finish mid-edge, return (node, offset) where 'node' is child and\n",
    "            'offset' is label offset.  If we finish on a node, return (node,\n",
    "            None). \"\"\"\n",
    "        cur = self.root\n",
    "        i = 0\n",
    "        while i < len(s):\n",
    "            c = s[i]\n",
    "            if c not in cur.out:\n",
    "                return (None, None) # fell off at a node\n",
    "            child = cur.out[s[i]]\n",
    "            lab = child.lab\n",
    "            j = i+1\n",
    "            while j-i < len(lab) and j < len(s) and s[j] == lab[j-i]:\n",
    "                j += 1\n",
    "            if j-i == len(lab):\n",
    "                cur = child # exhausted edge\n",
    "                i = j\n",
    "            elif j == len(s):\n",
    "                return (child, j-i) # exhausted query string in middle of edge\n",
    "            else:\n",
    "                return (None, None) # fell off in the middle of the edge\n",
    "        return (cur, None) # exhausted query string at internal node\n",
    "    \n",
    "    def hasSubstring(self, s):\n",
    "        \"\"\" Return true iff s appears as a substring \"\"\"\n",
    "        node, off = self.followPath(s)\n",
    "        return node is not None\n",
    "    \n",
    "    def hasSuffix(self, s):\n",
    "        \"\"\" Return true iff s is a suffix \"\"\"\n",
    "        node, off = self.followPath(s)\n",
    "        if node is None:\n",
    "            return False # fell off the tree\n",
    "        if off is None:\n",
    "            # finished on top of a node\n",
    "            return '$' in node.out\n",
    "        else:\n",
    "            # finished at offset 'off' within an edge leading to 'node'\n",
    "            return node.lab[off] == '$'"
   ]
  },
  {
   "cell_type": "code",
   "execution_count": 2,
   "metadata": {},
   "outputs": [],
   "source": [
    "stree = SuffixTree('there would have been a time for such a word')"
   ]
  },
  {
   "cell_type": "code",
   "execution_count": 3,
   "metadata": {},
   "outputs": [
    {
     "data": {
      "text/plain": [
       "False"
      ]
     },
     "execution_count": 3,
     "metadata": {},
     "output_type": "execute_result"
    }
   ],
   "source": [
    "stree.hasSubstring('nope')"
   ]
  },
  {
   "cell_type": "code",
   "execution_count": 4,
   "metadata": {},
   "outputs": [
    {
     "data": {
      "text/plain": [
       "True"
      ]
     },
     "execution_count": 4,
     "metadata": {},
     "output_type": "execute_result"
    }
   ],
   "source": [
    "stree.hasSubstring('such a word')"
   ]
  },
  {
   "cell_type": "code",
   "execution_count": 5,
   "metadata": {},
   "outputs": [
    {
     "data": {
      "text/plain": [
       "False"
      ]
     },
     "execution_count": 5,
     "metadata": {},
     "output_type": "execute_result"
    }
   ],
   "source": [
    "stree.hasSuffix('would have been')"
   ]
  },
  {
   "cell_type": "markdown",
   "metadata": {},
   "source": [
    "<p>So as mentioned previously the above code will not be correct choice for large values of $N.$ Ukkonen's Algorithm comes to the rescue here.\n",
    "<br />Ukkonen's Algorithm constructs the suffix tree in a worst case time complexity of $O(N)$.</p>\n",
    "<p>Ukkonen's Algorithm divides the process of constructing suffix tree into phases and each phase is further divided into extensions. In $i^{th}$ phase $i^{th}$ character is introduced in the trie. In $i^{th}$ phase, all the suffixes of the string $S[1..i]$ are inserted into the trie, and inserting $j^{th}$ suffix in a phase is called $j^{th}$ extension of that phase. So, in $i^{th}$ phase there are $i$ extensions and overall there $N$ such phases, where $N$ is the length of given string.  Right now it must look like a $O(N^2)$ task, but the algorithm exploits the fact that these are suffixes of same string and introduces several tricks that bring down the time complexity to $O(N)$. <br /></p>\n",
    "<p>Let's see how to perform the $j^{th}$ extension of $i^{th}$ phase. In $j^{th}$ extension of $i^{th}$ phase string $S[j...i]$ is to be inserted. Before going for phase $i$, $i-1$ phases are already complete, that means we have a trie having all suffixes of string $S[1...i-1]$. So search for the path of string $S[j..i-1]$ in the trie. Now there are 3 possibilities and each of those correspond to one rule, that has to be followed.  </p>\n",
    "<ol>\n",
    "<li>The complete string is found and  path ends at a leaf node. In that case the $i^{th}$ character is appended to last edge label and no new node is created.</li>\n",
    "<li>The complete string is found and path ends in between an edge label, and the next character of edge label is not equal to $S[i]$ or the path ends at an internal node. In this case new nodes are created. If the path ends in an internal node then a new leaf node is created, and if the path ends in between an edge label then a new internal node and one new leaf node is created.  </li>\n",
    "<li>Complete suffix $S[j..i-1]$ is found and the path ended in between an edge label and the next character of that edge label is equal to $i^{th}$ character. In that case do nothing.</li>\n",
    "</ol>\n",
    "<p>So given above are the 3 extension rules used to perform extensions in a phase.\n",
    "<br />Note that still we are doing $N$ phases and in $i^{th}$ phase we are performing $i$ extensions.\n",
    "<br />For every extension we need to  find the path of a string $S[j...i]$ in the trie built in previous phases. If we go with brute force approach time complexity will be $O(N^3)$, for that we use suffix links, which are explained below:<br /></p>\n",
    "<p><strong>Suffix Links:</strong> Suppose a string  $X$ is present in the trie, and its path from root ends at a node $v$, and string $aX$ is also present in the trie where $a$ is any character, and its path from root ends at a node $w$, then a link from $w$ to $v$ is called a Suffix Link.<br /></p>\n",
    "<p>Now how does a suffix link help? When we have to perform $j^{th}$ extension of phase $i$, we have to look for end of path of string $S[j...i-1]$, and in the next phase look for end of path of string $S[j+1...i-1]$, but before coming to phase $i$, we have performed $i-1$ phases, that means we have inserted strings $S[j..i-1]$ and $S[j+1...i-1]$ in the trie. Now clearly $S[j...i-1]$ is nothing but $S[j]S[j+1...i-1]$, so we will have a suffix link from node ending at path $S[j..i-1]$ to node ending at path $S[j+1...i-1]$, so instead of traversing down from root for $(j+1)^{th}$ extension of $i^{th}$ phase, we can make use of the suffix link.<br />\n",
    "Use of suffix link makes processing of a phase an $O(number  of  nodes)$ process, and number of nodes in a compressed trie are of $O(N)$. So right now each phase is done in $O(N)$ and there are $N$ such phases, so overall complexity right now is $O(N^2)$.<br /></p>\n",
    "<p>Before going further there is one more problem, and that is the edge labels. If the edge labels are stored as strings space complexity will turn out to be $O(N^2)$, no matter the what the number of nodes are. So for that instead of using strings as edge label, use two variables for each label and those will denote the start index and end index of the label in the string. That way each label will take constant space and overall space complexity will be $O(N)$.</p>\n",
    "<p>There are several more tricks that help in bringing down the complexity to linear. <br /></p>\n",
    "<p>In any phase, the extension rules are applied in the order. In first few extensions, rule 1 is applied, in the next few extensions rule 2 is applied and in the rest rule 3 is applied.<br /></p>\n",
    "<p>If in $i^{th}$ phase rule 3 is applied in extension $j$ for the first time, then in all the extensions after that i.e. in extensions $j+1$ to $i$, rule 3 will be applied, so its ok to halt a phase as soon as rule 3 starts applying.<br /></p>\n",
    "<p>Once a leaf node is created it will always remain a leaf node, only edge label of the edge between itself and its parent, will keep on increasing because of application of rule 1, and also for all the leaf node the end index (discussed earlier) will remain same, so in any phase rule 1 can also be applied in a constant time by maintain a global end index for all the leaf nodes.<br /></p>\n",
    "<p>New leaf nodes are created when rule 2 is applied, and in all the extensions in which rule 2 is applied in any phase $i-1$, in the next phase $i$, rule 1 will be applied in all those extensions.<br /></p>\n",
    "<p>So a maximum of $N$ times rule 2 will be applied as there are $N$ leaves, so this means all the phases can be completed in complexity $O(N)$. </p>"
   ]
  }
 ],
 "metadata": {
  "kernelspec": {
   "display_name": "Python 3",
   "language": "python",
   "name": "python3"
  },
  "language_info": {
   "codemirror_mode": {
    "name": "ipython",
    "version": 3
   },
   "file_extension": ".py",
   "mimetype": "text/x-python",
   "name": "python",
   "nbconvert_exporter": "python",
   "pygments_lexer": "ipython3",
   "version": "3.7.3"
  }
 },
 "nbformat": 4,
 "nbformat_minor": 2
}
