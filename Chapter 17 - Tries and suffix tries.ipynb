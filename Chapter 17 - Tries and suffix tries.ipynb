{
 "cells": [
  {
   "cell_type": "markdown",
   "metadata": {},
   "source": [
    "<p>Strings can essentially be viewed as the most important and common topics for a variety of programming problems. String processing has a variety of real world applications too, such as:</p>\n",
    "<ul>\n",
    "<li>Search Engines   </li>\n",
    "<li>Genome Analysis   </li>\n",
    "<li>Data Analytics  </li>\n",
    "</ul>\n",
    "<p>All the content presented to us in textual form can be visualized as nothing but just strings.  </p>\n",
    "<p><strong>Tries:</strong> </p>\n",
    "<p>Tries are an extremely special and useful data-structure that are based on the <em>prefix of a string</em>. They are used to represent the “Re<strong>trie</strong>val” of data and thus the name Trie.   </p>\n",
    "<p><strong>Prefix : What is prefix:</strong> </p>\n",
    "<p>The prefix of a string is nothing but any $$n$$ letters $$n \\le |S|$$ that can be considered beginning strictly from the starting of a string. For example , the word “abacaba” has the following prefixes:  </p>\n",
    "<p>a<br />\n",
    "ab<br />\n",
    "aba<br />\n",
    "abac<br />\n",
    "abaca<br />\n",
    "abacab  </p>\n",
    "<p>A Trie is a special data structure used to store strings that can be visualized like a graph. It consists of nodes and edges. Each node consists of at max 26 children and edges connect each parent node to its children. These 26 pointers are nothing but pointers for each of the 26 letters of the English alphabet A separate edge is maintained for every edge.  </p>\n",
    "<p>Strings are stored in a top to bottom manner on the basis of their prefix in a trie. All prefixes of length 1 are stored at until level 1, all prefixes of length 2 are sorted at until level 2 and so on.   </p>\n",
    "<p>For example , consider the following diagram :\n",
    "<img alt=\"enter image description here\" src=\"https://he-s3.s3.amazonaws.com/media/uploads/fb14630.png\" /></p>\n",
    "<p>Now, one would be wondering why to use a data structure such as a trie for processing a single string? Actually, Tries are generally used on groups of strings, rather than a single string. When given multiple strings , we can solve a variety of problems based on them. For example, consider an English dictionary and a single string $$s$$, find the prefix of maximum length from the dictionary strings matching the string $$s$$. Solving this problem using  a naive approach would require us to match the prefix of the given string with the prefix of every other word in the dictionary and note the maximum. The is an expensive process considering the amount of time it would take. Tries can solve this problem in much more efficient way.    </p>\n",
    "<p>Before processing each Query of the type where we need to search the length of the longest prefix, we first need to add all the existing words into the dictionary.  A Trie consists of a special node called the root node. This node doesn't have any incoming edges. It only contains 26 outgoing edfes for each letter in the alphabet and is the root of the Trie.  </p>\n",
    "<p>So, the insertion of any string into a Trie starts from the root node. All prefixes of length one are direct children of the root node. In addition, all prefixes of length 2 become children of the nodes existing at level one.  </p>\n",
    "<p>The pseudo code for insertion of a string into a tire would look as follows:  </p>"
   ]
  },
  {
   "cell_type": "code",
   "execution_count": 1,
   "metadata": {},
   "outputs": [],
   "source": [
    "class TrieMap(object):\n",
    "    \"\"\" Trie implementation of a map.  Associating keys (strings or other\n",
    "        sequence type) with values.  Values can be any type. \"\"\"\n",
    "    \n",
    "    def __init__(self, kvs):\n",
    "        self.root = {}\n",
    "        # For each key (string)/value pair\n",
    "        for (k, v) in kvs: self.add(k, v)\n",
    "    \n",
    "    def add(self, k, v):\n",
    "        \"\"\" Add a key-value pair \"\"\"\n",
    "        cur = self.root\n",
    "        for c in k: # for each character in the string\n",
    "            if c not in cur:\n",
    "                cur[c] = {} # if not there, make new edge on character c\n",
    "            cur = cur[c]\n",
    "        cur['value'] = v # at the end of the path, add the value\n",
    "    \n",
    "    def query(self, k):\n",
    "        \"\"\" Given key, return associated value or None \"\"\"\n",
    "        cur = self.root\n",
    "        for c in k:\n",
    "            if c not in cur:\n",
    "                return None # key wasn't in the trie\n",
    "            cur = cur[c]\n",
    "        # get value, or None if there's no value associated with this node\n",
    "        return cur.get('value')"
   ]
  },
  {
   "cell_type": "code",
   "execution_count": 2,
   "metadata": {},
   "outputs": [
    {
     "data": {
      "text/plain": [
       "'value 1'"
      ]
     },
     "execution_count": 2,
     "metadata": {},
     "output_type": "execute_result"
    }
   ],
   "source": [
    "mp = TrieMap([(\"hello\", \"value 1\"), (\"there\", 2), (\"the\", \"value 3\")])\n",
    "mp.query(\"hello\")"
   ]
  },
  {
   "cell_type": "code",
   "execution_count": 3,
   "metadata": {},
   "outputs": [],
   "source": [
    "mp.query(\"hello there\") # returns None"
   ]
  },
  {
   "cell_type": "code",
   "execution_count": 4,
   "metadata": {},
   "outputs": [
    {
     "data": {
      "text/plain": [
       "2"
      ]
     },
     "execution_count": 4,
     "metadata": {},
     "output_type": "execute_result"
    }
   ],
   "source": [
    "mp.query(\"there\")"
   ]
  },
  {
   "cell_type": "code",
   "execution_count": 5,
   "metadata": {},
   "outputs": [
    {
     "data": {
      "text/plain": [
       "'value 3'"
      ]
     },
     "execution_count": 5,
     "metadata": {},
     "output_type": "execute_result"
    }
   ],
   "source": [
    "mp.query(\"the\")"
   ]
  },
  {
   "cell_type": "code",
   "execution_count": null,
   "metadata": {},
   "outputs": [],
   "source": []
  },
  {
   "cell_type": "markdown",
   "metadata": {},
   "source": [
    "### Suffix Trie"
   ]
  },
  {
   "cell_type": "code",
   "execution_count": 6,
   "metadata": {},
   "outputs": [],
   "source": [
    "class SuffixTrie(object):\n",
    "    \"\"\" Encapsulates a suffix trie of a provided string t \"\"\"\n",
    "    \n",
    "    def __init__(self, t):\n",
    "        \"\"\" Make suffix trie from t \"\"\"\n",
    "        t += '$'  # terminator symbol\n",
    "        self.root = {}\n",
    "        for i in range(len(t)):  # for each suffix\n",
    "            cur = self.root\n",
    "            for c in t[i:]:  # for each character in i'th suffix\n",
    "                if c not in cur:\n",
    "                    cur[c] = {}  # add outgoing edge if necessary\n",
    "                cur = cur[c]\n",
    "    \n",
    "    def follow_path(self, s):\n",
    "        \"\"\" Follow path given by characters of s.  Return node at\n",
    "            end of path, or None if we fall off. \"\"\"\n",
    "        cur = self.root\n",
    "        for c in s:\n",
    "            if c not in cur:\n",
    "                return None  # no outgoing edge on next character\n",
    "            cur = cur[c]  # descend one level\n",
    "        return cur\n",
    "    \n",
    "    def has_substring(self, s):\n",
    "        \"\"\" Return true if s appears as a substring of t \"\"\"\n",
    "        return self.follow_path(s) is not None\n",
    "    \n",
    "    def has_suffix(self, s):\n",
    "        \"\"\" Return true if s is a suffix of t \"\"\"\n",
    "        node = self.follow_path(s)\n",
    "        return node is not None and '$' in node\n",
    "    \n",
    "    def to_dot(self):\n",
    "        \"\"\" Return dot representation of trie to make a picture \"\"\"\n",
    "        lines = []\n",
    "        def _to_dot_helper(node, parid):\n",
    "            childid = parid\n",
    "            for c, child in node.items():\n",
    "                lines.append('  %d -> %d [ label=\"%s\" ];' % (parid, childid+1, c))\n",
    "                childid = _to_dot_helper(child, childid+1)\n",
    "            return childid\n",
    "        lines.append('digraph \"Suffix trie\" {')\n",
    "        lines.append('  node [shape=circle label=\"\"];')\n",
    "        _to_dot_helper(self.root, 0)\n",
    "        lines.append('}')\n",
    "        return '\\n'.join(lines) + '\\n'"
   ]
  },
  {
   "cell_type": "code",
   "execution_count": 7,
   "metadata": {},
   "outputs": [],
   "source": [
    "strie = SuffixTrie('there would have been a time for such a word')"
   ]
  },
  {
   "cell_type": "code",
   "execution_count": 8,
   "metadata": {},
   "outputs": [
    {
     "data": {
      "text/plain": [
       "False"
      ]
     },
     "execution_count": 8,
     "metadata": {},
     "output_type": "execute_result"
    }
   ],
   "source": [
    "strie.has_substring('nope')"
   ]
  },
  {
   "cell_type": "code",
   "execution_count": 9,
   "metadata": {},
   "outputs": [
    {
     "data": {
      "text/plain": [
       "True"
      ]
     },
     "execution_count": 9,
     "metadata": {},
     "output_type": "execute_result"
    }
   ],
   "source": [
    "strie.has_substring('would have been')"
   ]
  },
  {
   "cell_type": "code",
   "execution_count": 10,
   "metadata": {},
   "outputs": [
    {
     "data": {
      "text/plain": [
       "True"
      ]
     },
     "execution_count": 10,
     "metadata": {},
     "output_type": "execute_result"
    }
   ],
   "source": [
    "strie.has_substring('such a word')"
   ]
  },
  {
   "cell_type": "code",
   "execution_count": 11,
   "metadata": {},
   "outputs": [
    {
     "data": {
      "text/plain": [
       "False"
      ]
     },
     "execution_count": 11,
     "metadata": {},
     "output_type": "execute_result"
    }
   ],
   "source": [
    "strie.has_suffix('would have been')"
   ]
  },
  {
   "cell_type": "code",
   "execution_count": 12,
   "metadata": {},
   "outputs": [
    {
     "name": "stderr",
     "output_type": "stream",
     "text": [
      "UsageError: Line magic function `%dotstr` not found.\n"
     ]
    }
   ],
   "source": [
    "%dotstr SuffixTrie(\"CAT\").to_dot()"
   ]
  },
  {
   "cell_type": "code",
   "execution_count": null,
   "metadata": {},
   "outputs": [],
   "source": []
  }
 ],
 "metadata": {
  "kernelspec": {
   "display_name": "Python 3",
   "language": "python",
   "name": "python3"
  },
  "language_info": {
   "codemirror_mode": {
    "name": "ipython",
    "version": 3
   },
   "file_extension": ".py",
   "mimetype": "text/x-python",
   "name": "python",
   "nbconvert_exporter": "python",
   "pygments_lexer": "ipython3",
   "version": "3.8.2"
  }
 },
 "nbformat": 4,
 "nbformat_minor": 4
}
